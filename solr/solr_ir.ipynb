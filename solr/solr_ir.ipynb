{
 "cells": [
  {
   "cell_type": "markdown",
   "metadata": {},
   "source": [
    "# Imports "
   ]
  },
  {
   "cell_type": "code",
   "execution_count": 1,
   "metadata": {},
   "outputs": [],
   "source": [
    "import requests \n",
    "import read_write_qrcd as q_reader\n",
    "import pysolr"
   ]
  },
  {
   "cell_type": "markdown",
   "metadata": {},
   "source": [
    "# define functions "
   ]
  },
  {
   "cell_type": "code",
   "execution_count": 2,
   "metadata": {},
   "outputs": [],
   "source": [
    "def del_solr_data(solr_core='qa_core', url='http://localhost:8983/solr/'):\n",
    "    import requests\n",
    "    headers = { 'Content-Type': 'text/xml'}\n",
    "    params = { 'commit': 'true'}\n",
    "    data = '<delete><query>*:*</query></delete>'\n",
    "\n",
    "    response = requests.post(\n",
    "        '{}{}/update'.format(url, solr_core), \n",
    "        headers=headers, \n",
    "        params=params, \n",
    "        data=data)\n",
    "    return response\n",
    "################################################\n",
    "def prepare_data(data_item):\n",
    "    result_list = []\n",
    "    \n",
    "    pq_id = data_item['pq_id'].split(':')[0]\n",
    "    verse_start = int(data_item['verses'].split('-')[0])\n",
    "    passages = [ver.strip() for ver in data_item.get('passage').split('.') if ver.strip()]\n",
    "    for passage in passages:\n",
    "        doc = {\n",
    "            'id': pq_id + '_' + str(verse_start),\n",
    "            'doc': passage\n",
    "        }\n",
    "        verse_start+=1\n",
    "        result_list.append(doc)\n",
    "\n",
    "    return result_list\n",
    "################################################\n",
    "\n",
    "def solr_ir(docs_data, query, solr_engine):\n",
    "    # make_sure there is no indexed docs \n",
    "    solr_engine.delete(q='*:*')\n",
    "    # index docs \n",
    "    solr_engine.add(docs_data)\n",
    "    # query \n",
    "    query = query.replace('؟', '').replace('\"', '')\n",
    "    search_results = solr_engine.search(\n",
    "        q=query, \n",
    "        fl='id,doc,score', df='doc')\n",
    "    result_list = []\n",
    "    for r in search_results:\n",
    "        #print(\"id: {}. doc: {}. score: {}\".format(r['id'], r['doc'], r['score']))\n",
    "        result_list.append( {'id': r['id'], 'doc': r['doc'], 'score': r['score'] })\n",
    "    # delete docs \n",
    "    solr_engine.delete(q='*:*')\n",
    "    # return results \n",
    "    return search_results"
   ]
  },
  {
   "cell_type": "markdown",
   "metadata": {},
   "source": [
    "# Load data "
   ]
  },
  {
   "cell_type": "code",
   "execution_count": 3,
   "metadata": {},
   "outputs": [
    {
     "name": "stdout",
     "output_type": "stream",
     "text": [
      "Loaded 710 records from ../quranqa/datasets/qrcd_v1.1_train.jsonl\n"
     ]
    }
   ],
   "source": [
    "train_data_file = '../quranqa/datasets/qrcd_v1.1_train.jsonl'\n",
    "train = q_reader.load_jsonl(train_data_file)"
   ]
  },
  {
   "cell_type": "markdown",
   "metadata": {},
   "source": [
    "# Solr URL"
   ]
  },
  {
   "cell_type": "code",
   "execution_count": 4,
   "metadata": {},
   "outputs": [],
   "source": [
    "solr_url = 'http://localhost:8983/solr/qa_core'"
   ]
  },
  {
   "cell_type": "markdown",
   "metadata": {},
   "source": [
    "# define a solr client & test connection (ping)"
   ]
  },
  {
   "cell_type": "code",
   "execution_count": 5,
   "metadata": {},
   "outputs": [
    {
     "data": {
      "text/plain": [
       "'{\\n  \"responseHeader\":{\\n    \"zkConnected\":null,\\n    \"status\":0,\\n    \"QTime\":1,\\n    \"params\":{\\n      \"q\":\"{!lucene}*:*\",\\n      \"distrib\":\"false\",\\n      \"df\":\"_text_\",\\n      \"rows\":\"10\",\\n      \"echoParams\":\"all\",\\n      \"rid\":\"-19\"}},\\n  \"status\":\"OK\"}\\n'"
      ]
     },
     "execution_count": 5,
     "metadata": {},
     "output_type": "execute_result"
    }
   ],
   "source": [
    "solr = pysolr.Solr(url=solr_url, always_commit=True)\n",
    "solr.ping()"
   ]
  },
  {
   "cell_type": "code",
   "execution_count": 6,
   "metadata": {},
   "outputs": [],
   "source": [
    "def run_experiment(data_id):\n",
    "    print('data instance')\n",
    "    data_instance = train[data_id]\n",
    "    print(data_instance)\n",
    "    print('++++++++++++++++++++++++++++')\n",
    "    print('prepared data')\n",
    "    docs_data = prepare_data(data_instance)\n",
    "    print(docs_data)\n",
    "    print('++++++++++++++++++++++++++++')\n",
    "    query = data_instance.get('question')\n",
    "    print('question:', query)\n",
    "    print('++++++++++++++++++++++++++++')\n",
    "    answers = data_instance.get('answers')\n",
    "    print('answers:', answers)\n",
    "    print('++++++++++++++++++++++++++++')\n",
    "    print('Solr query results')\n",
    "    results = solr_ir(docs_data=docs_data, query=query, solr_engine=solr)\n",
    "    for r in results:\n",
    "        print(r)\n",
    "    "
   ]
  },
  {
   "cell_type": "markdown",
   "metadata": {},
   "source": [
    "# Result Example 1"
   ]
  },
  {
   "cell_type": "code",
   "execution_count": 7,
   "metadata": {},
   "outputs": [
    {
     "name": "stdout",
     "output_type": "stream",
     "text": [
      "data instance\n",
      "{'pq_id': '2:8-16_364', 'passage': 'ومن الناس من يقول آمنا بالله وباليوم الآخر وما هم بمؤمنين. يخادعون الله والذين آمنوا وما يخدعون إلا أنفسهم وما يشعرون. في قلوبهم مرض فزادهم الله مرضا ولهم عذاب أليم بما كانوا يكذبون. وإذا قيل لهم لا تفسدوا في الأرض قالوا إنما نحن مصلحون. ألا إنهم هم المفسدون ولكن لا يشعرون. وإذا قيل لهم آمنوا كما آمن الناس قالوا أنؤمن كما آمن السفهاء ألا إنهم هم السفهاء ولكن لا يعلمون. وإذا لقوا الذين آمنوا قالوا آمنا وإذا خلوا إلى شياطينهم قالوا إنا معكم إنما نحن مستهزئون. الله يستهزئ بهم ويمدهم في طغيانهم يعمهون. أولئك الذين اشتروا الضلالة بالهدى فما ربحت تجارتهم وما كانوا مهتدين.', 'surah': 2, 'verses': '8-16', 'question': 'لماذا سيُحاسب ويُعذب الضال يوم القيامة ان كان \"\"من يضلل الله فما له من هاد\"\" كما ورد من قوله تعالى في آية 23 و آية 36 من سورة الزمر؟', 'answers': [{'text': 'أولئك الذين اشتروا الضلالة بالهدى', 'start_char': 504}]}\n",
      "++++++++++++++++++++++++++++\n",
      "prepared data\n",
      "[{'id': '2_8', 'doc': 'ومن الناس من يقول آمنا بالله وباليوم الآخر وما هم بمؤمنين'}, {'id': '2_9', 'doc': 'يخادعون الله والذين آمنوا وما يخدعون إلا أنفسهم وما يشعرون'}, {'id': '2_10', 'doc': 'في قلوبهم مرض فزادهم الله مرضا ولهم عذاب أليم بما كانوا يكذبون'}, {'id': '2_11', 'doc': 'وإذا قيل لهم لا تفسدوا في الأرض قالوا إنما نحن مصلحون'}, {'id': '2_12', 'doc': 'ألا إنهم هم المفسدون ولكن لا يشعرون'}, {'id': '2_13', 'doc': 'وإذا قيل لهم آمنوا كما آمن الناس قالوا أنؤمن كما آمن السفهاء ألا إنهم هم السفهاء ولكن لا يعلمون'}, {'id': '2_14', 'doc': 'وإذا لقوا الذين آمنوا قالوا آمنا وإذا خلوا إلى شياطينهم قالوا إنا معكم إنما نحن مستهزئون'}, {'id': '2_15', 'doc': 'الله يستهزئ بهم ويمدهم في طغيانهم يعمهون'}, {'id': '2_16', 'doc': 'أولئك الذين اشتروا الضلالة بالهدى فما ربحت تجارتهم وما كانوا مهتدين'}]\n",
      "++++++++++++++++++++++++++++\n",
      "question: لماذا سيُحاسب ويُعذب الضال يوم القيامة ان كان \"\"من يضلل الله فما له من هاد\"\" كما ورد من قوله تعالى في آية 23 و آية 36 من سورة الزمر؟\n",
      "++++++++++++++++++++++++++++\n",
      "answers: [{'text': 'أولئك الذين اشتروا الضلالة بالهدى', 'start_char': 504}]\n",
      "++++++++++++++++++++++++++++\n",
      "Solr query results\n",
      "{'id': '2_8', 'doc': ['ومن الناس من يقول آمنا بالله وباليوم الآخر وما هم بمؤمنين'], 'score': 3.5185103}\n",
      "{'id': '2_15', 'doc': ['الله يستهزئ بهم ويمدهم في طغيانهم يعمهون'], 'score': 1.1378999}\n",
      "{'id': '2_13', 'doc': ['وإذا قيل لهم آمنوا كما آمن الناس قالوا أنؤمن كما آمن السفهاء ألا إنهم هم السفهاء ولكن لا يعلمون'], 'score': 1.0038183}\n",
      "{'id': '2_10', 'doc': ['في قلوبهم مرض فزادهم الله مرضا ولهم عذاب أليم بما كانوا يكذبون'], 'score': 0.93959975}\n",
      "{'id': '2_16', 'doc': ['أولئك الذين اشتروا الضلالة بالهدى فما ربحت تجارتهم وما كانوا مهتدين'], 'score': 0.8796276}\n",
      "{'id': '2_9', 'doc': ['يخادعون الله والذين آمنوا وما يخدعون إلا أنفسهم وما يشعرون'], 'score': 0.50500226}\n",
      "{'id': '2_11', 'doc': ['وإذا قيل لهم لا تفسدوا في الأرض قالوا إنما نحن مصلحون'], 'score': 0.48676544}\n"
     ]
    }
   ],
   "source": [
    "run_experiment(0)"
   ]
  },
  {
   "cell_type": "markdown",
   "metadata": {},
   "source": [
    "# Result Example 2"
   ]
  },
  {
   "cell_type": "code",
   "execution_count": 8,
   "metadata": {},
   "outputs": [
    {
     "name": "stdout",
     "output_type": "stream",
     "text": [
      "data instance\n",
      "{'pq_id': '35:15-18_378', 'passage': 'يا أيها الناس أنتم الفقراء إلى الله والله هو الغني الحميد. إن يشأ يذهبكم ويأت بخلق جديد. وما ذلك على الله بعزيز. ولا تزر وازرة وزر أخرى وإن تدع مثقلة إلى حملها لا يحمل منه شيء ولو كان ذا قربى إنما تنذر الذين يخشون ربهم بالغيب وأقاموا الصلاة ومن تزكى فإنما يتزكى لنفسه وإلى الله المصير.', 'surah': 35, 'verses': '15-18', 'question': 'إن كان الله قدّر علي أفعالي فلماذا يحاسبني؟', 'answers': [{'text': 'من تزكى فإنما يتزكى لنفسه', 'start_char': 242}]}\n",
      "++++++++++++++++++++++++++++\n",
      "prepared data\n",
      "[{'id': '35_15', 'doc': 'يا أيها الناس أنتم الفقراء إلى الله والله هو الغني الحميد'}, {'id': '35_16', 'doc': 'إن يشأ يذهبكم ويأت بخلق جديد'}, {'id': '35_17', 'doc': 'وما ذلك على الله بعزيز'}, {'id': '35_18', 'doc': 'ولا تزر وازرة وزر أخرى وإن تدع مثقلة إلى حملها لا يحمل منه شيء ولو كان ذا قربى إنما تنذر الذين يخشون ربهم بالغيب وأقاموا الصلاة ومن تزكى فإنما يتزكى لنفسه وإلى الله المصير'}]\n",
      "++++++++++++++++++++++++++++\n",
      "question: إن كان الله قدّر علي أفعالي فلماذا يحاسبني؟\n",
      "++++++++++++++++++++++++++++\n",
      "answers: [{'text': 'من تزكى فإنما يتزكى لنفسه', 'start_char': 242}]\n",
      "++++++++++++++++++++++++++++\n",
      "Solr query results\n",
      "{'id': '35_16', 'doc': ['إن يشأ يذهبكم ويأت بخلق جديد'], 'score': 0.7142212}\n",
      "{'id': '35_18', 'doc': ['ولا تزر وازرة وزر أخرى وإن تدع مثقلة إلى حملها لا يحمل منه شيء ولو كان ذا قربى إنما تنذر الذين يخشون ربهم بالغيب وأقاموا الصلاة ومن تزكى فإنما يتزكى لنفسه وإلى الله المصير'], 'score': 0.4477268}\n",
      "{'id': '35_17', 'doc': ['وما ذلك على الله بعزيز'], 'score': 0.21997572}\n",
      "{'id': '35_15', 'doc': ['يا أيها الناس أنتم الفقراء إلى الله والله هو الغني الحميد'], 'score': 0.17770281}\n"
     ]
    }
   ],
   "source": [
    "run_experiment(23)"
   ]
  },
  {
   "cell_type": "markdown",
   "metadata": {},
   "source": [
    "# Result Example 3"
   ]
  },
  {
   "cell_type": "code",
   "execution_count": 9,
   "metadata": {},
   "outputs": [
    {
     "name": "stdout",
     "output_type": "stream",
     "text": [
      "data instance\n",
      "{'pq_id': '4:44-46_407', 'passage': 'ألم تر إلى الذين أوتوا نصيبا من الكتاب يشترون الضلالة ويريدون أن تضلوا السبيل. والله أعلم بأعدائكم وكفى بالله وليا وكفى بالله نصيرا. من الذين هادوا يحرفون الكلم عن مواضعه ويقولون سمعنا وعصينا واسمع غير مسمع وراعنا ليا بألسنتهم وطعنا في الدين ولو أنهم قالوا سمعنا وأطعنا واسمع وانظرنا لكان خيرا لهم وأقوم ولكن لعنهم الله بكفرهم فلا يؤمنون إلا قليلا.', 'surah': 4, 'verses': '44-46', 'question': 'هل ذكر القرآن أن التوراة تم تحريفها؟', 'answers': [{'text': 'من الذين هادوا يحرفون الكلم عن مواضعه', 'start_char': 133}]}\n",
      "++++++++++++++++++++++++++++\n",
      "prepared data\n",
      "[{'id': '4_44', 'doc': 'ألم تر إلى الذين أوتوا نصيبا من الكتاب يشترون الضلالة ويريدون أن تضلوا السبيل'}, {'id': '4_45', 'doc': 'والله أعلم بأعدائكم وكفى بالله وليا وكفى بالله نصيرا'}, {'id': '4_46', 'doc': 'من الذين هادوا يحرفون الكلم عن مواضعه ويقولون سمعنا وعصينا واسمع غير مسمع وراعنا ليا بألسنتهم وطعنا في الدين ولو أنهم قالوا سمعنا وأطعنا واسمع وانظرنا لكان خيرا لهم وأقوم ولكن لعنهم الله بكفرهم فلا يؤمنون إلا قليلا'}]\n",
      "++++++++++++++++++++++++++++\n",
      "question: هل ذكر القرآن أن التوراة تم تحريفها؟\n",
      "++++++++++++++++++++++++++++\n",
      "answers: [{'text': 'من الذين هادوا يحرفون الكلم عن مواضعه', 'start_char': 133}]\n",
      "++++++++++++++++++++++++++++\n",
      "Solr query results\n",
      "{'id': '4_44', 'doc': ['ألم تر إلى الذين أوتوا نصيبا من الكتاب يشترون الضلالة ويريدون أن تضلوا السبيل'], 'score': 0.51093584}\n"
     ]
    }
   ],
   "source": [
    "run_experiment(158)"
   ]
  }
 ],
 "metadata": {
  "interpreter": {
   "hash": "c32fdc886c0254dd70f0ab58fbe1d8a7cb056d79d780ce61ef4d86fd91be5655"
  },
  "kernelspec": {
   "display_name": "Python 3.9.7 ('quranqa')",
   "language": "python",
   "name": "python3"
  },
  "language_info": {
   "codemirror_mode": {
    "name": "ipython",
    "version": 3
   },
   "file_extension": ".py",
   "mimetype": "text/x-python",
   "name": "python",
   "nbconvert_exporter": "python",
   "pygments_lexer": "ipython3",
   "version": "3.9.7"
  },
  "orig_nbformat": 4
 },
 "nbformat": 4,
 "nbformat_minor": 2
}
