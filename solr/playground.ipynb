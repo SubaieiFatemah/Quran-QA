{
 "cells": [
  {
   "cell_type": "code",
   "execution_count": 1,
   "metadata": {},
   "outputs": [],
   "source": [
    "import requests \n",
    "import read_write_qrcd as q_reader"
   ]
  },
  {
   "cell_type": "code",
   "execution_count": 95,
   "metadata": {},
   "outputs": [],
   "source": [
    "def del_solr_data(solr_core='qa_core', url='http://localhost:8983/solr/'):\n",
    "    import requests\n",
    "    headers = { 'Content-Type': 'text/xml'}\n",
    "    params = { 'commit': 'true'}\n",
    "    data = '<delete><query>*:*</query></delete>'\n",
    "\n",
    "    response = requests.post(\n",
    "        '{}{}/update'.format(url, solr_core), \n",
    "        headers=headers, \n",
    "        params=params, \n",
    "        data=data)\n",
    "    return response"
   ]
  },
  {
   "cell_type": "code",
   "execution_count": 96,
   "metadata": {},
   "outputs": [
    {
     "data": {
      "text/plain": [
       "'<?xml version=\"1.0\" encoding=\"UTF-8\"?>\\n<response>\\n\\n<lst name=\"responseHeader\">\\n  <int name=\"status\">0</int>\\n  <int name=\"QTime\">206</int>\\n</lst>\\n</response>\\n'"
      ]
     },
     "execution_count": 96,
     "metadata": {},
     "output_type": "execute_result"
    }
   ],
   "source": [
    "r = del_solr_data()\n",
    "r.text"
   ]
  },
  {
   "cell_type": "code",
   "execution_count": 67,
   "metadata": {},
   "outputs": [],
   "source": [
    "def list2str(data_list):\n",
    "    result = '[\\n'\n",
    "    for d in data_list:\n",
    "        # print(d)\n",
    "        doc_id = d.get('id')\n",
    "        doc = d.get('doc')\n",
    "        result+= '{id:' + doc_id + 'doc:' + doc +  '},\\n'\n",
    "    result+= ']\\n'\n",
    "    return result "
   ]
  },
  {
   "cell_type": "code",
   "execution_count": 74,
   "metadata": {},
   "outputs": [],
   "source": [
    "def post_data_list_solr(solr_core='qa_core',  url='http://localhost:8983/solr/', data=''):\n",
    "    import requests\n",
    "    headers = {'Content-Type': 'application/json'}\n",
    "    response = requests.post(\n",
    "        '{}{}/update'.format(url, solr_core), \n",
    "        headers=headers, \n",
    "        data=data)\n",
    "    return response"
   ]
  },
  {
   "cell_type": "code",
   "execution_count": 99,
   "metadata": {},
   "outputs": [],
   "source": [
    "def post_data_solr(solr_core='qa_core',  url='http://localhost:8983/solr/', data_dict={}):\n",
    "    import requests\n",
    "    import json\n",
    "    params = { 'commit': 'true'}\n",
    "    response = requests.post(\n",
    "        url='{}{}/update/json/docs'.format(url, solr_core), \n",
    "        params=params,\n",
    "        json=json.dumps(data_dict))\n",
    "    return response"
   ]
  },
  {
   "cell_type": "code",
   "execution_count": 2,
   "metadata": {},
   "outputs": [
    {
     "name": "stdout",
     "output_type": "stream",
     "text": [
      "Loaded 710 records from ../quranqa/datasets/qrcd_v1.1_train.jsonl\n"
     ]
    }
   ],
   "source": [
    "train_data_file = '../quranqa/datasets/qrcd_v1.1_train.jsonl'\n",
    "train = q_reader.load_jsonl(train_data_file)"
   ]
  },
  {
   "cell_type": "code",
   "execution_count": 23,
   "metadata": {},
   "outputs": [],
   "source": [
    "def prepare_data(data_item):\n",
    "    result_list = []\n",
    "    \n",
    "    pq_id = data_item['pq_id'].split(':')[0]\n",
    "    verse_start = int(data_item['verses'].split('-')[0])\n",
    "    passages = [ver.strip() for ver in data_item.get('passage').split('.') if ver.strip()]\n",
    "    for passage in passages:\n",
    "        doc = {\n",
    "            'id': pq_id + '_' + str(verse_start),\n",
    "            'doc': passage\n",
    "        }\n",
    "        verse_start+=1\n",
    "        result_list.append(doc)\n",
    "\n",
    "    return result_list"
   ]
  },
  {
   "cell_type": "code",
   "execution_count": 24,
   "metadata": {},
   "outputs": [
    {
     "name": "stdout",
     "output_type": "stream",
     "text": [
      "{'pq_id': '2:8-16_364', 'passage': 'ومن الناس من يقول آمنا بالله وباليوم الآخر وما هم بمؤمنين. يخادعون الله والذين آمنوا وما يخدعون إلا أنفسهم وما يشعرون. في قلوبهم مرض فزادهم الله مرضا ولهم عذاب أليم بما كانوا يكذبون. وإذا قيل لهم لا تفسدوا في الأرض قالوا إنما نحن مصلحون. ألا إنهم هم المفسدون ولكن لا يشعرون. وإذا قيل لهم آمنوا كما آمن الناس قالوا أنؤمن كما آمن السفهاء ألا إنهم هم السفهاء ولكن لا يعلمون. وإذا لقوا الذين آمنوا قالوا آمنا وإذا خلوا إلى شياطينهم قالوا إنا معكم إنما نحن مستهزئون. الله يستهزئ بهم ويمدهم في طغيانهم يعمهون. أولئك الذين اشتروا الضلالة بالهدى فما ربحت تجارتهم وما كانوا مهتدين.', 'surah': 2, 'verses': '8-16', 'question': 'لماذا سيُحاسب ويُعذب الضال يوم القيامة ان كان \"\"من يضلل الله فما له من هاد\"\" كما ورد من قوله تعالى في آية 23 و آية 36 من سورة الزمر؟', 'answers': [{'text': 'أولئك الذين اشتروا الضلالة بالهدى', 'start_char': 504}]}\n"
     ]
    }
   ],
   "source": [
    "i0 = train[0]\n",
    "print(i0)"
   ]
  },
  {
   "cell_type": "code",
   "execution_count": 65,
   "metadata": {},
   "outputs": [
    {
     "data": {
      "text/plain": [
       "[{'id': '2_8',\n",
       "  'doc': 'ومن الناس من يقول آمنا بالله وباليوم الآخر وما هم بمؤمنين'},\n",
       " {'id': '2_9',\n",
       "  'doc': 'يخادعون الله والذين آمنوا وما يخدعون إلا أنفسهم وما يشعرون'},\n",
       " {'id': '2_10',\n",
       "  'doc': 'في قلوبهم مرض فزادهم الله مرضا ولهم عذاب أليم بما كانوا يكذبون'},\n",
       " {'id': '2_11',\n",
       "  'doc': 'وإذا قيل لهم لا تفسدوا في الأرض قالوا إنما نحن مصلحون'},\n",
       " {'id': '2_12', 'doc': 'ألا إنهم هم المفسدون ولكن لا يشعرون'},\n",
       " {'id': '2_13',\n",
       "  'doc': 'وإذا قيل لهم آمنوا كما آمن الناس قالوا أنؤمن كما آمن السفهاء ألا إنهم هم السفهاء ولكن لا يعلمون'},\n",
       " {'id': '2_14',\n",
       "  'doc': 'وإذا لقوا الذين آمنوا قالوا آمنا وإذا خلوا إلى شياطينهم قالوا إنا معكم إنما نحن مستهزئون'},\n",
       " {'id': '2_15', 'doc': 'الله يستهزئ بهم ويمدهم في طغيانهم يعمهون'},\n",
       " {'id': '2_16',\n",
       "  'doc': 'أولئك الذين اشتروا الضلالة بالهدى فما ربحت تجارتهم وما كانوا مهتدين'}]"
      ]
     },
     "execution_count": 65,
     "metadata": {},
     "output_type": "execute_result"
    }
   ],
   "source": [
    "docs_data = prepare_data(i0)\n",
    "docs_data"
   ]
  },
  {
   "cell_type": "code",
   "execution_count": 100,
   "metadata": {},
   "outputs": [
    {
     "name": "stdout",
     "output_type": "stream",
     "text": [
      "{'id': '2_13', 'doc': 'وإذا قيل لهم آمنوا كما آمن الناس قالوا أنؤمن كما آمن السفهاء ألا إنهم هم السفهاء ولكن لا يعلمون'}\n"
     ]
    },
    {
     "data": {
      "text/plain": [
       "'{\\n  \"responseHeader\":{\\n    \"status\":0,\\n    \"QTime\":9}}\\n'"
      ]
     },
     "execution_count": 100,
     "metadata": {},
     "output_type": "execute_result"
    }
   ],
   "source": [
    "d = docs_data[5]\n",
    "print(d)\n",
    "r = post_data_solr(data_dict=d)\n",
    "r.text"
   ]
  },
  {
   "cell_type": "code",
   "execution_count": 72,
   "metadata": {},
   "outputs": [],
   "source": [
    "data_str = list2str(docs_data)"
   ]
  },
  {
   "cell_type": "code",
   "execution_count": 33,
   "metadata": {},
   "outputs": [
    {
     "data": {
      "text/plain": [
       "{'id': '2_8',\n",
       " 'doc': 'ومن الناس من يقول آمنا بالله وباليوم الآخر وما هم بمؤمنين'}"
      ]
     },
     "execution_count": 33,
     "metadata": {},
     "output_type": "execute_result"
    }
   ],
   "source": [
    "docs_data[0]"
   ]
  },
  {
   "cell_type": "code",
   "execution_count": 111,
   "metadata": {},
   "outputs": [
    {
     "data": {
      "text/plain": [
       "<Response [200]>"
      ]
     },
     "execution_count": 111,
     "metadata": {},
     "output_type": "execute_result"
    }
   ],
   "source": [
    "del_solr_data()"
   ]
  },
  {
   "cell_type": "code",
   "execution_count": 108,
   "metadata": {},
   "outputs": [
    {
     "data": {
      "text/plain": [
       "'{\\n  \"responseHeader\":{\\n    \"zkConnected\":null,\\n    \"status\":0,\\n    \"QTime\":0,\\n    \"params\":{\\n      \"q\":\"{!lucene}*:*\",\\n      \"distrib\":\"false\",\\n      \"df\":\"_text_\",\\n      \"rows\":\"10\",\\n      \"echoParams\":\"all\",\\n      \"rid\":\"-35\"}},\\n  \"status\":\"OK\"}\\n'"
      ]
     },
     "execution_count": 108,
     "metadata": {},
     "output_type": "execute_result"
    }
   ],
   "source": [
    "import pysolr\n",
    "solr = pysolr.Solr(\n",
    "    'http://localhost:8983/solr/qa_core', \n",
    "    always_commit=True)\n",
    "solr.ping()"
   ]
  },
  {
   "cell_type": "code",
   "execution_count": 109,
   "metadata": {},
   "outputs": [
    {
     "data": {
      "text/plain": [
       "[{'id': '2_8',\n",
       "  'doc': 'ومن الناس من يقول آمنا بالله وباليوم الآخر وما هم بمؤمنين'},\n",
       " {'id': '2_9',\n",
       "  'doc': 'يخادعون الله والذين آمنوا وما يخدعون إلا أنفسهم وما يشعرون'},\n",
       " {'id': '2_10',\n",
       "  'doc': 'في قلوبهم مرض فزادهم الله مرضا ولهم عذاب أليم بما كانوا يكذبون'},\n",
       " {'id': '2_11',\n",
       "  'doc': 'وإذا قيل لهم لا تفسدوا في الأرض قالوا إنما نحن مصلحون'},\n",
       " {'id': '2_12', 'doc': 'ألا إنهم هم المفسدون ولكن لا يشعرون'},\n",
       " {'id': '2_13',\n",
       "  'doc': 'وإذا قيل لهم آمنوا كما آمن الناس قالوا أنؤمن كما آمن السفهاء ألا إنهم هم السفهاء ولكن لا يعلمون'},\n",
       " {'id': '2_14',\n",
       "  'doc': 'وإذا لقوا الذين آمنوا قالوا آمنا وإذا خلوا إلى شياطينهم قالوا إنا معكم إنما نحن مستهزئون'},\n",
       " {'id': '2_15', 'doc': 'الله يستهزئ بهم ويمدهم في طغيانهم يعمهون'},\n",
       " {'id': '2_16',\n",
       "  'doc': 'أولئك الذين اشتروا الضلالة بالهدى فما ربحت تجارتهم وما كانوا مهتدين'}]"
      ]
     },
     "execution_count": 109,
     "metadata": {},
     "output_type": "execute_result"
    }
   ],
   "source": [
    "docs_data"
   ]
  },
  {
   "cell_type": "code",
   "execution_count": 112,
   "metadata": {},
   "outputs": [
    {
     "data": {
      "text/plain": [
       "'{\\n  \"responseHeader\":{\\n    \"status\":0,\\n    \"QTime\":216}}\\n'"
      ]
     },
     "execution_count": 112,
     "metadata": {},
     "output_type": "execute_result"
    }
   ],
   "source": [
    "solr.add(docs_data)"
   ]
  },
  {
   "cell_type": "code",
   "execution_count": 116,
   "metadata": {},
   "outputs": [
    {
     "name": "stdout",
     "output_type": "stream",
     "text": [
      "id: 2_8. doc: ['ومن الناس من يقول آمنا بالله وباليوم الآخر وما هم بمؤمنين']. score: 1.0\n",
      "id: 2_9. doc: ['يخادعون الله والذين آمنوا وما يخدعون إلا أنفسهم وما يشعرون']. score: 1.0\n",
      "id: 2_10. doc: ['في قلوبهم مرض فزادهم الله مرضا ولهم عذاب أليم بما كانوا يكذبون']. score: 1.0\n",
      "id: 2_11. doc: ['وإذا قيل لهم لا تفسدوا في الأرض قالوا إنما نحن مصلحون']. score: 1.0\n",
      "id: 2_12. doc: ['ألا إنهم هم المفسدون ولكن لا يشعرون']. score: 1.0\n",
      "id: 2_13. doc: ['وإذا قيل لهم آمنوا كما آمن الناس قالوا أنؤمن كما آمن السفهاء ألا إنهم هم السفهاء ولكن لا يعلمون']. score: 1.0\n",
      "id: 2_14. doc: ['وإذا لقوا الذين آمنوا قالوا آمنا وإذا خلوا إلى شياطينهم قالوا إنا معكم إنما نحن مستهزئون']. score: 1.0\n",
      "id: 2_15. doc: ['الله يستهزئ بهم ويمدهم في طغيانهم يعمهون']. score: 1.0\n",
      "id: 2_16. doc: ['أولئك الذين اشتروا الضلالة بالهدى فما ربحت تجارتهم وما كانوا مهتدين']. score: 1.0\n"
     ]
    }
   ],
   "source": [
    "results = solr.search(q='*:*', fl='id,doc,score', df='doc')\n",
    "for r in results:\n",
    "    print(\"id: {}. doc: {}. score: {}\".format(r['id'], r['doc'], r['score']))"
   ]
  },
  {
   "cell_type": "code",
   "execution_count": 117,
   "metadata": {},
   "outputs": [
    {
     "data": {
      "text/plain": [
       "'<?xml version=\"1.0\" encoding=\"UTF-8\"?>\\n<response>\\n\\n<lst name=\"responseHeader\">\\n  <int name=\"status\">0</int>\\n  <int name=\"QTime\">199</int>\\n</lst>\\n</response>\\n'"
      ]
     },
     "execution_count": 117,
     "metadata": {},
     "output_type": "execute_result"
    }
   ],
   "source": [
    "solr.delete(q='*:*')"
   ]
  },
  {
   "cell_type": "code",
   "execution_count": 118,
   "metadata": {},
   "outputs": [],
   "source": [
    "results = solr.search(q='*:*', fl='id,doc,score', df='doc')\n",
    "for r in results:\n",
    "    print(\"id: {}. doc: {}. score: {}\".format(r['id'], r['doc'], r['score']))"
   ]
  }
 ],
 "metadata": {
  "interpreter": {
   "hash": "c32fdc886c0254dd70f0ab58fbe1d8a7cb056d79d780ce61ef4d86fd91be5655"
  },
  "kernelspec": {
   "display_name": "Python 3.9.7 ('quranqa')",
   "language": "python",
   "name": "python3"
  },
  "language_info": {
   "codemirror_mode": {
    "name": "ipython",
    "version": 3
   },
   "file_extension": ".py",
   "mimetype": "text/x-python",
   "name": "python",
   "nbconvert_exporter": "python",
   "pygments_lexer": "ipython3",
   "version": "3.9.7"
  },
  "orig_nbformat": 4
 },
 "nbformat": 4,
 "nbformat_minor": 2
}
