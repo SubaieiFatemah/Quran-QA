{
 "cells": [
  {
   "cell_type": "code",
   "execution_count": 34,
   "metadata": {},
   "outputs": [],
   "source": [
    "import read_write_qrcd as q_reader\n",
    "from gensim import corpora, models, similarities\n",
    "from collections import defaultdict\n",
    "import pprint"
   ]
  },
  {
   "cell_type": "code",
   "execution_count": 5,
   "metadata": {},
   "outputs": [
    {
     "name": "stdout",
     "output_type": "stream",
     "text": [
      "Loaded 710 records from ../quranqa/datasets/qrcd_v1.1_train.jsonl\n"
     ]
    },
    {
     "data": {
      "text/plain": [
       "{'pq_id': '2:8-16_364',\n",
       " 'passage': 'ومن الناس من يقول آمنا بالله وباليوم الآخر وما هم بمؤمنين. يخادعون الله والذين آمنوا وما يخدعون إلا أنفسهم وما يشعرون. في قلوبهم مرض فزادهم الله مرضا ولهم عذاب أليم بما كانوا يكذبون. وإذا قيل لهم لا تفسدوا في الأرض قالوا إنما نحن مصلحون. ألا إنهم هم المفسدون ولكن لا يشعرون. وإذا قيل لهم آمنوا كما آمن الناس قالوا أنؤمن كما آمن السفهاء ألا إنهم هم السفهاء ولكن لا يعلمون. وإذا لقوا الذين آمنوا قالوا آمنا وإذا خلوا إلى شياطينهم قالوا إنا معكم إنما نحن مستهزئون. الله يستهزئ بهم ويمدهم في طغيانهم يعمهون. أولئك الذين اشتروا الضلالة بالهدى فما ربحت تجارتهم وما كانوا مهتدين.',\n",
       " 'surah': 2,\n",
       " 'verses': '8-16',\n",
       " 'question': 'لماذا سيُحاسب ويُعذب الضال يوم القيامة ان كان \"\"من يضلل الله فما له من هاد\"\" كما ورد من قوله تعالى في آية 23 و آية 36 من سورة الزمر؟',\n",
       " 'answers': [{'text': 'أولئك الذين اشتروا الضلالة بالهدى', 'start_char': 504}]}"
      ]
     },
     "execution_count": 5,
     "metadata": {},
     "output_type": "execute_result"
    }
   ],
   "source": [
    "train_data_file = '../quranqa/datasets/qrcd_v1.1_train.jsonl'\n",
    "train = q_reader.load_jsonl(train_data_file)\n",
    "train[0]"
   ]
  },
  {
   "cell_type": "code",
   "execution_count": 48,
   "metadata": {},
   "outputs": [
    {
     "name": "stdout",
     "output_type": "stream",
     "text": [
      "question:\n",
      "لماذا سيُحاسب ويُعذب الضال يوم القيامة ان كان \"\"من يضلل الله فما له من هاد\"\" كما ورد من قوله تعالى في آية 23 و آية 36 من سورة الزمر؟\n",
      "verses:\n",
      "ومن الناس من يقول آمنا بالله وباليوم الآخر وما هم بمؤمنين\n",
      "يخادعون الله والذين آمنوا وما يخدعون إلا أنفسهم وما يشعرون\n",
      "في قلوبهم مرض فزادهم الله مرضا ولهم عذاب أليم بما كانوا يكذبون\n",
      "وإذا قيل لهم لا تفسدوا في الأرض قالوا إنما نحن مصلحون\n",
      "ألا إنهم هم المفسدون ولكن لا يشعرون\n",
      "وإذا قيل لهم آمنوا كما آمن الناس قالوا أنؤمن كما آمن السفهاء ألا إنهم هم السفهاء ولكن لا يعلمون\n",
      "وإذا لقوا الذين آمنوا قالوا آمنا وإذا خلوا إلى شياطينهم قالوا إنا معكم إنما نحن مستهزئون\n",
      "الله يستهزئ بهم ويمدهم في طغيانهم يعمهون\n",
      "أولئك الذين اشتروا الضلالة بالهدى فما ربحت تجارتهم وما كانوا مهتدين\n",
      "[{'text': 'أولئك الذين اشتروا الضلالة بالهدى', 'start_char': 504}]\n"
     ]
    }
   ],
   "source": [
    "verses = [ver.strip() for ver in train[0].get('passage').split('.') if ver.strip()]\n",
    "question = train[0].get('question')\n",
    "print('question:')\n",
    "print(question)\n",
    "print('verses:')\n",
    "for ver in verses:\n",
    "    print(ver)\n",
    "answers = train[0].get('answers')\n",
    "print(answers)"
   ]
  },
  {
   "cell_type": "code",
   "execution_count": 12,
   "metadata": {},
   "outputs": [],
   "source": [
    "stoplist = ''.split()\n",
    "texts = [\n",
    "    [word for word in ver.split() if word not in stoplist]\n",
    "    for ver in verses\n",
    "]"
   ]
  },
  {
   "cell_type": "code",
   "execution_count": 17,
   "metadata": {},
   "outputs": [
    {
     "name": "stdout",
     "output_type": "stream",
     "text": [
      "[['ومن', 'الناس', 'من', 'يقول', 'آمنا', 'بالله', 'وباليوم', 'الآخر', 'وما', 'هم', 'بمؤمنين'], ['يخادعون', 'الله', 'والذين', 'آمنوا', 'وما', 'يخدعون', 'إلا', 'أنفسهم', 'وما', 'يشعرون'], ['في', 'قلوبهم', 'مرض', 'فزادهم', 'الله', 'مرضا', 'ولهم', 'عذاب', 'أليم', 'بما', 'كانوا', 'يكذبون'], ['وإذا', 'قيل', 'لهم', 'لا', 'تفسدوا', 'في', 'الأرض', 'قالوا', 'إنما', 'نحن', 'مصلحون'], ['ألا', 'إنهم', 'هم', 'المفسدون', 'ولكن', 'لا', 'يشعرون'], ['وإذا', 'قيل', 'لهم', 'آمنوا', 'كما', 'آمن', 'الناس', 'قالوا', 'أنؤمن', 'كما', 'آمن', 'السفهاء', 'ألا', 'إنهم', 'هم', 'السفهاء', 'ولكن', 'لا', 'يعلمون'], ['وإذا', 'لقوا', 'الذين', 'آمنوا', 'قالوا', 'آمنا', 'وإذا', 'خلوا', 'إلى', 'شياطينهم', 'قالوا', 'إنا', 'معكم', 'إنما', 'نحن', 'مستهزئون'], ['الله', 'يستهزئ', 'بهم', 'ويمدهم', 'في', 'طغيانهم', 'يعمهون'], ['أولئك', 'الذين', 'اشتروا', 'الضلالة', 'بالهدى', 'فما', 'ربحت', 'تجارتهم', 'وما', 'كانوا', 'مهتدين']]\n"
     ]
    }
   ],
   "source": [
    "print(texts)"
   ]
  },
  {
   "cell_type": "code",
   "execution_count": 19,
   "metadata": {},
   "outputs": [],
   "source": [
    "dictionary = corpora.Dictionary(texts)\n",
    "corpus = [dictionary.doc2bow(text) for text in texts]"
   ]
  },
  {
   "cell_type": "code",
   "execution_count": 22,
   "metadata": {},
   "outputs": [],
   "source": [
    "tfidf = models.TfidfModel(corpus) \n",
    "corpus_tfidf = tfidf[corpus]\n",
    "lsi_model = models.LsiModel(corpus_tfidf, id2word=dictionary, num_topics=2)\n",
    "corpus_lsi = lsi_model[corpus_tfidf]"
   ]
  },
  {
   "cell_type": "code",
   "execution_count": 27,
   "metadata": {},
   "outputs": [
    {
     "name": "stdout",
     "output_type": "stream",
     "text": [
      "[(5, 3), (14, 1), (23, 1), (47, 1), (68, 1)]\n",
      "[(0, 0.5729891824272499), (1, -0.3265007886390873)]\n"
     ]
    }
   ],
   "source": [
    "q_bow = dictionary.doc2bow(question.split())\n",
    "vec_lsi = lsi_model[q_bow]\n",
    "print(q_bow)  \n",
    "print(vec_lsi)"
   ]
  },
  {
   "cell_type": "code",
   "execution_count": 37,
   "metadata": {},
   "outputs": [],
   "source": [
    "lsi_index = similarities.MatrixSimilarity(corpus_lsi)\n",
    "tfidf_index = similarities.MatrixSimilarity(corpus_tfidf)"
   ]
  },
  {
   "cell_type": "code",
   "execution_count": 38,
   "metadata": {},
   "outputs": [],
   "source": [
    "lsi_sims = lsi_index[vec_lsi]\n",
    "tfidf_sims = tfidf_index[q_bow]"
   ]
  },
  {
   "cell_type": "code",
   "execution_count": 42,
   "metadata": {},
   "outputs": [],
   "source": [
    "def sort_sims(sims, docs):\n",
    "    result = []\n",
    "    sims = sorted(enumerate(sims), key=lambda item: -item[1])\n",
    "    for doc_position, doc_score in sims:\n",
    "        result.append( (doc_score, docs[doc_position]) )\n",
    "    return result"
   ]
  },
  {
   "cell_type": "code",
   "execution_count": 46,
   "metadata": {},
   "outputs": [
    {
     "name": "stdout",
     "output_type": "stream",
     "text": [
      "لماذا سيُحاسب ويُعذب الضال يوم القيامة ان كان \"\"من يضلل الله فما له من هاد\"\" كما ورد من قوله تعالى في آية 23 و آية 36 من سورة الزمر؟\n"
     ]
    },
    {
     "data": {
      "text/plain": [
       "[(0.9975539,\n",
       "  'أولئك الذين اشتروا الضلالة بالهدى فما ربحت تجارتهم وما كانوا مهتدين'),\n",
       " (0.97135884,\n",
       "  'وإذا قيل لهم آمنوا كما آمن الناس قالوا أنؤمن كما آمن السفهاء ألا إنهم هم السفهاء ولكن لا يعلمون'),\n",
       " (0.96080565, 'ألا إنهم هم المفسدون ولكن لا يشعرون'),\n",
       " (0.93313026, 'ومن الناس من يقول آمنا بالله وباليوم الآخر وما هم بمؤمنين'),\n",
       " (0.8523612, 'يخادعون الله والذين آمنوا وما يخدعون إلا أنفسهم وما يشعرون'),\n",
       " (0.77143127,\n",
       "  'في قلوبهم مرض فزادهم الله مرضا ولهم عذاب أليم بما كانوا يكذبون'),\n",
       " (0.6204605, 'الله يستهزئ بهم ويمدهم في طغيانهم يعمهون'),\n",
       " (0.34390667, 'وإذا قيل لهم لا تفسدوا في الأرض قالوا إنما نحن مصلحون'),\n",
       " (0.23883024,\n",
       "  'وإذا لقوا الذين آمنوا قالوا آمنا وإذا خلوا إلى شياطينهم قالوا إنا معكم إنما نحن مستهزئون')]"
      ]
     },
     "execution_count": 46,
     "metadata": {},
     "output_type": "execute_result"
    }
   ],
   "source": [
    "print(question)\n",
    "sort_sims(lsi_sims, verses)"
   ]
  },
  {
   "cell_type": "code",
   "execution_count": 47,
   "metadata": {},
   "outputs": [
    {
     "name": "stdout",
     "output_type": "stream",
     "text": [
      "لماذا سيُحاسب ويُعذب الضال يوم القيامة ان كان \"\"من يضلل الله فما له من هاد\"\" كما ورد من قوله تعالى في آية 23 و آية 36 من سورة الزمر؟\n"
     ]
    },
    {
     "data": {
      "text/plain": [
       "[(0.28645146, 'ومن الناس من يقول آمنا بالله وباليوم الآخر وما هم بمؤمنين'),\n",
       " (0.1305212,\n",
       "  'وإذا قيل لهم آمنوا كما آمن الناس قالوا أنؤمن كما آمن السفهاء ألا إنهم هم السفهاء ولكن لا يعلمون'),\n",
       " (0.11826248, 'الله يستهزئ بهم ويمدهم في طغيانهم يعمهون'),\n",
       " (0.09150341,\n",
       "  'أولئك الذين اشتروا الضلالة بالهدى فما ربحت تجارتهم وما كانوا مهتدين'),\n",
       " (0.08784388,\n",
       "  'في قلوبهم مرض فزادهم الله مرضا ولهم عذاب أليم بما كانوا يكذبون'),\n",
       " (0.057216108, 'وإذا قيل لهم لا تفسدوا في الأرض قالوا إنما نحن مصلحون'),\n",
       " (0.05253224, 'يخادعون الله والذين آمنوا وما يخدعون إلا أنفسهم وما يشعرون'),\n",
       " (0.0, 'ألا إنهم هم المفسدون ولكن لا يشعرون'),\n",
       " (0.0,\n",
       "  'وإذا لقوا الذين آمنوا قالوا آمنا وإذا خلوا إلى شياطينهم قالوا إنا معكم إنما نحن مستهزئون')]"
      ]
     },
     "execution_count": 47,
     "metadata": {},
     "output_type": "execute_result"
    }
   ],
   "source": [
    "print(question)\n",
    "sort_sims(tfidf_sims, verses)"
   ]
  },
  {
   "cell_type": "code",
   "execution_count": 49,
   "metadata": {},
   "outputs": [
    {
     "data": {
      "text/plain": [
       "[{'text': 'أولئك الذين اشتروا الضلالة بالهدى', 'start_char': 504}]"
      ]
     },
     "execution_count": 49,
     "metadata": {},
     "output_type": "execute_result"
    }
   ],
   "source": [
    "answers"
   ]
  }
 ],
 "metadata": {
  "interpreter": {
   "hash": "c32fdc886c0254dd70f0ab58fbe1d8a7cb056d79d780ce61ef4d86fd91be5655"
  },
  "kernelspec": {
   "display_name": "Python 3.9.7 ('quranqa')",
   "language": "python",
   "name": "python3"
  },
  "language_info": {
   "codemirror_mode": {
    "name": "ipython",
    "version": 3
   },
   "file_extension": ".py",
   "mimetype": "text/x-python",
   "name": "python",
   "nbconvert_exporter": "python",
   "pygments_lexer": "ipython3",
   "version": "3.9.7"
  },
  "orig_nbformat": 4
 },
 "nbformat": 4,
 "nbformat_minor": 2
}
