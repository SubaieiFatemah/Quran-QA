{
 "cells": [
  {
   "cell_type": "markdown",
   "source": "# imports ",
   "metadata": {
    "cell_id": "452a4d5f-4c4e-4427-b671-b9b503dab216",
    "deepnote_cell_type": "markdown",
    "deepnote_cell_height": 82
   }
  },
  {
   "cell_type": "code",
   "metadata": {
    "cell_id": "00001-479611b2-9d50-40ea-8ba2-6ce427c00023",
    "deepnote_to_be_reexecuted": false,
    "source_hash": "9ed5e12c",
    "execution_start": 1648212753422,
    "execution_millis": 1571,
    "deepnote_cell_type": "code",
    "deepnote_cell_height": 135
   },
   "source": "import read_write_qrcd as q_reader\nfrom gensim import corpora, models, similarities\nfrom collections import defaultdict\nimport pprint",
   "execution_count": 1,
   "outputs": []
  },
  {
   "cell_type": "markdown",
   "source": "# load data ",
   "metadata": {
    "cell_id": "00002-6b45b3e1-ceee-4128-9276-f21c2289059f",
    "deepnote_cell_type": "markdown",
    "deepnote_cell_height": 82
   }
  },
  {
   "cell_type": "code",
   "metadata": {
    "cell_id": "00003-7c19bff8-0659-48c6-b140-926087beaf4f",
    "deepnote_to_be_reexecuted": false,
    "source_hash": "60706af4",
    "execution_start": 1648212755000,
    "execution_millis": 21,
    "deepnote_cell_type": "code",
    "deepnote_cell_height": 130.1875
   },
   "source": "train_data_file = '../quranqa/datasets/qrcd_v1.1_train.jsonl'\ntrain = q_reader.load_jsonl(train_data_file)",
   "execution_count": 2,
   "outputs": [
    {
     "name": "stdout",
     "text": "Loaded 710 records from ../quranqa/datasets/qrcd_v1.1_train.jsonl\n",
     "output_type": "stream"
    }
   ]
  },
  {
   "cell_type": "markdown",
   "source": "# IR function",
   "metadata": {
    "cell_id": "00004-37f1cdfc-573c-42fa-b172-f386eacdc6d6",
    "deepnote_cell_type": "markdown",
    "deepnote_cell_height": 82
   }
  },
  {
   "cell_type": "code",
   "metadata": {
    "cell_id": "00005-18afb38c-3500-46e8-89cc-b93fd9ea1b7b",
    "deepnote_to_be_reexecuted": false,
    "source_hash": "cb155294",
    "execution_start": 1648212755023,
    "execution_millis": 11,
    "deepnote_cell_type": "code",
    "deepnote_cell_height": 1035
   },
   "source": "def ir(data_item={}, query_key='question', docs_key='passage', res_key='answers', index_method='lsi', dims=4) -> list:\n    # get data items \n    docs = [ver.strip() for ver in data_item.get(docs_key).split('.') if ver.strip()]\n    query = data_item.get(query_key)\n    res = data_item.get(res_key)\n\n    stoplist = ''.split()\n    texts = [\n        [word for word in doc.split() if word not in stoplist]\n        for doc in docs\n    ]\n\n    # build dictionary and corpus \n    dictionary = corpora.Dictionary(texts)\n    corpus = [dictionary.doc2bow(text) for text in texts]\n\n    # build tfidf & lsi models \n    tfidf = models.TfidfModel(corpus) \n    corpus_tfidf = tfidf[corpus]\n    lsi_model = models.LsiModel(corpus_tfidf, id2word=dictionary, num_topics=dims)\n    corpus_lsi = lsi_model[corpus_tfidf]\n\n    # generate query BOW vector and LSI vector from the question \n    query_bow = query.replace('؟', '').replace('\"', '').split()\n    print('query bow:', query_bow)\n    vec_bow = dictionary.doc2bow(query_bow)\n    vec_lsi = lsi_model[vec_bow]\n\n    result = []\n    try:\n        # generate tfidf and lsi indices \n        lsi_index = similarities.MatrixSimilarity(corpus_lsi)\n        tfidf_index = similarities.MatrixSimilarity(corpus_tfidf)\n        \n        \n        # get similarities between queries and docs \n        tfidf_sims = tfidf_index[vec_bow]\n        lsi_sims = lsi_index[vec_lsi]\n\n        # sort documents according to similarties \n        \n        if index_method == 'tfidf':\n            sims = tfidf_sims\n        else:\n            sims = lsi_sims\n        \n        \n        sims = sorted(enumerate(sims), key=lambda item: -item[1])\n        for doc_position, doc_score in sims:\n            result.append( (doc_score, docs[doc_position]) )\n    except:\n        for doc in docs:\n            result.append( (0.0, doc) )\n    return result",
   "execution_count": 3,
   "outputs": []
  },
  {
   "cell_type": "markdown",
   "source": "# some examples ",
   "metadata": {
    "cell_id": "00006-f35e831f-fb1e-413e-9eab-94ffe625f2a3",
    "deepnote_cell_type": "markdown",
    "deepnote_cell_height": 82
   }
  },
  {
   "cell_type": "markdown",
   "source": "## Example 1",
   "metadata": {
    "cell_id": "00007-410b65da-eb5f-4b35-ab41-e2ef48278a30",
    "deepnote_cell_type": "markdown",
    "deepnote_cell_height": 70
   }
  },
  {
   "cell_type": "code",
   "metadata": {
    "cell_id": "00008-67647d11-45da-4cd8-af92-c57b32d5b6f8",
    "deepnote_to_be_reexecuted": false,
    "source_hash": "61629770",
    "execution_start": 1648212755081,
    "execution_millis": 47,
    "deepnote_cell_type": "code",
    "deepnote_cell_height": 508,
    "deepnote_output_heights": [
     null,
     232.25
    ]
   },
   "source": "data = train[0]\nprint('Query (Question):', data.get('question'))\nprint('Answers:', data.get('answers'))\nprint('verses sorted by similarity score:')\nir(data_item=data)",
   "execution_count": 4,
   "outputs": [
    {
     "name": "stdout",
     "text": "Query (Question): لماذا سيُحاسب ويُعذب الضال يوم القيامة ان كان \"\"من يضلل الله فما له من هاد\"\" كما ورد من قوله تعالى في آية 23 و آية 36 من سورة الزمر؟\nAnswers: [{'text': 'أولئك الذين اشتروا الضلالة بالهدى', 'start_char': 504}]\nverses sorted by similarity score:\nquery bow: ['لماذا', 'سيُحاسب', 'ويُعذب', 'الضال', 'يوم', 'القيامة', 'ان', 'كان', 'من', 'يضلل', 'الله', 'فما', 'له', 'من', 'هاد', 'كما', 'ورد', 'من', 'قوله', 'تعالى', 'في', 'آية', '23', 'و', 'آية', '36', 'من', 'سورة', 'الزمر']\n",
     "output_type": "stream"
    },
    {
     "output_type": "execute_result",
     "execution_count": 4,
     "data": {
      "text/plain": "[(0.93099207, 'يخادعون الله والذين آمنوا وما يخدعون إلا أنفسهم وما يشعرون'),\n (0.81462085, 'ومن الناس من يقول آمنا بالله وباليوم الآخر وما هم بمؤمنين'),\n (0.7821177,\n  'أولئك الذين اشتروا الضلالة بالهدى فما ربحت تجارتهم وما كانوا مهتدين'),\n (0.4166727, 'ألا إنهم هم المفسدون ولكن لا يشعرون'),\n (0.3769802, 'في قلوبهم مرض فزادهم الله مرضا ولهم عذاب أليم بما كانوا يكذبون'),\n (0.33878773,\n  'وإذا قيل لهم آمنوا كما آمن الناس قالوا أنؤمن كما آمن السفهاء ألا إنهم هم السفهاء ولكن لا يعلمون'),\n (0.3092097,\n  'وإذا لقوا الذين آمنوا قالوا آمنا وإذا خلوا إلى شياطينهم قالوا إنا معكم إنما نحن مستهزئون'),\n (0.17794453, 'الله يستهزئ بهم ويمدهم في طغيانهم يعمهون'),\n (0.17013404, 'وإذا قيل لهم لا تفسدوا في الأرض قالوا إنما نحن مصلحون')]"
     },
     "metadata": {}
    }
   ]
  },
  {
   "cell_type": "markdown",
   "source": "## Example 2",
   "metadata": {
    "cell_id": "00009-0b13e585-8a0d-47a7-a5e8-d1914b61be74",
    "deepnote_cell_type": "markdown",
    "deepnote_cell_height": 70
   }
  },
  {
   "cell_type": "code",
   "metadata": {
    "cell_id": "00010-30207d39-9bfd-4061-8659-75e76d55498d",
    "deepnote_to_be_reexecuted": false,
    "source_hash": "ac9e74fc",
    "execution_start": 1648212755126,
    "execution_millis": 45,
    "deepnote_cell_type": "code",
    "deepnote_cell_height": 470,
    "deepnote_output_heights": [
     null,
     193.875
    ]
   },
   "source": "data = train[19]\nprint('Query (Question):', data.get('question'))\nprint('Answers:', data.get('answers'))\nprint('verses sorted by similarity score:')\nir(data_item=data)",
   "execution_count": 5,
   "outputs": [
    {
     "name": "stdout",
     "text": "Query (Question): إن كان الله قدّر علي أفعالي فلماذا يحاسبني؟\nAnswers: [{'text': 'كل إنسان ألزمناه طائره في عنقه', 'start_char': 141}, {'text': 'من اهتدى فإنما يهتدي لنفسه ومن ضل فإنما يضل عليها', 'start_char': 252}]\nverses sorted by similarity score:\nquery bow: ['إن', 'كان', 'الله', 'قدّر', 'علي', 'أفعالي', 'فلماذا', 'يحاسبني']\n",
     "output_type": "stream"
    },
    {
     "output_type": "execute_result",
     "execution_count": 5,
     "data": {
      "text/plain": "[(0.0,\n  'وجعلنا الليل والنهار آيتين فمحونا آية الليل وجعلنا آية النهار مبصرة لتبتغوا فضلا من ربكم ولتعلموا عدد السنين والحساب وكل شيء فصلناه تفصيلا'),\n (0.0,\n  'وكل إنسان ألزمناه طائره في عنقه ونخرج له يوم القيامة كتابا يلقاه منشورا'),\n (0.0, 'اقرأ كتابك كفى بنفسك اليوم عليك حسيبا'),\n (0.0,\n  'من اهتدى فإنما يهتدي لنفسه ومن ضل فإنما يضل عليها ولا تزر وازرة وزر أخرى وما كنا معذبين حتى نبعث رسولا'),\n (0.0,\n  'وإذا أردنا أن نهلك قرية أمرنا مترفيها ففسقوا فيها فحق عليها القول فدمرناها تدميرا'),\n (0.0, 'وكم أهلكنا من القرون من بعد نوح وكفى بربك بذنوب عباده خبيرا بصيرا')]"
     },
     "metadata": {}
    }
   ]
  },
  {
   "cell_type": "markdown",
   "source": "## Example 3",
   "metadata": {
    "cell_id": "00011-840ff757-7b33-44e4-8f32-7c3ba14791e0",
    "deepnote_cell_type": "markdown",
    "deepnote_cell_height": 70
   }
  },
  {
   "cell_type": "code",
   "metadata": {
    "cell_id": "00012-56fee035-2186-4c4f-bbdd-46d7dd437384",
    "deepnote_to_be_reexecuted": false,
    "source_hash": "62643e3b",
    "execution_start": 1648212755170,
    "execution_millis": 89,
    "deepnote_cell_type": "code",
    "deepnote_cell_height": 887,
    "deepnote_output_heights": [
     null,
     611
    ]
   },
   "source": "data = train[40]\nprint('Query (Question):', data.get('question'))\nprint('Answers:', data.get('answers'))\nprint('verses sorted by similarity score:')\nir(data_item=data)",
   "execution_count": 6,
   "outputs": [
    {
     "name": "stdout",
     "text": "Query (Question): ما هو وصف الحور العين؟\nAnswers: [{'text': 'خيرات حسان', 'start_char': 600}, {'text': 'حور مقصورات في الخيام', 'start_char': 636}, {'text': 'لم يطمثهن إنس قبلهم ولا جان', 'start_char': 683}]\nverses sorted by similarity score:\nquery bow: ['ما', 'هو', 'وصف', 'الحور', 'العين']\n",
     "output_type": "stream"
    },
    {
     "output_type": "execute_result",
     "execution_count": 6,
     "data": {
      "text/plain": "[(0.0, 'ولمن خاف مقام ربه جنتان'),\n (0.0, 'فبأي آلاء ربكما تكذبان'),\n (0.0, 'ذواتا أفنان'),\n (0.0, 'فبأي آلاء ربكما تكذبان'),\n (0.0, 'فيهما عينان تجريان'),\n (0.0, 'فبأي آلاء ربكما تكذبان'),\n (0.0, 'فيهما من كل فاكهة زوجان'),\n (0.0, 'فبأي آلاء ربكما تكذبان'),\n (0.0, 'متكئين على فرش بطائنها من إستبرق وجنى الجنتين دان'),\n (0.0, 'فبأي آلاء ربكما تكذبان'),\n (0.0, 'فيهن قاصرات الطرف لم يطمثهن إنس قبلهم ولا جان'),\n (0.0, 'فبأي آلاء ربكما تكذبان'),\n (0.0, 'كأنهن الياقوت والمرجان'),\n (0.0, 'فبأي آلاء ربكما تكذبان'),\n (0.0, 'هل جزاء الإحسان إلا الإحسان'),\n (0.0, 'فبأي آلاء ربكما تكذبان'),\n (0.0, 'ومن دونهما جنتان'),\n (0.0, 'فبأي آلاء ربكما تكذبان'),\n (0.0, 'مدهامتان'),\n (0.0, 'فبأي آلاء ربكما تكذبان'),\n (0.0, 'فيهما عينان نضاختان'),\n (0.0, 'فبأي آلاء ربكما تكذبان'),\n (0.0, 'فيهما فاكهة ونخل ورمان'),\n (0.0, 'فبأي آلاء ربكما تكذبان'),\n (0.0, 'فيهن خيرات حسان'),\n (0.0, 'فبأي آلاء ربكما تكذبان'),\n (0.0, 'حور مقصورات في الخيام'),\n (0.0, 'فبأي آلاء ربكما تكذبان'),\n (0.0, 'لم يطمثهن إنس قبلهم ولا جان'),\n (0.0, 'فبأي آلاء ربكما تكذبان'),\n (0.0, 'متكئين على رفرف خضر وعبقري حسان'),\n (0.0, 'فبأي آلاء ربكما تكذبان'),\n (0.0, 'تبارك اسم ربك ذي الجلال والإكرام')]"
     },
     "metadata": {}
    }
   ]
  },
  {
   "cell_type": "markdown",
   "source": "## Example 4",
   "metadata": {
    "cell_id": "00013-a0f41472-2cdf-46e8-b12b-4a12ca0de246",
    "deepnote_cell_type": "markdown",
    "deepnote_cell_height": 70
   }
  },
  {
   "cell_type": "code",
   "metadata": {
    "cell_id": "00014-cea7a0c9-8790-4bb7-a44b-21d8e876b8e8",
    "deepnote_to_be_reexecuted": false,
    "source_hash": "fb72155a",
    "execution_start": 1648212755262,
    "execution_millis": 41,
    "deepnote_cell_type": "code",
    "deepnote_cell_height": 356.5,
    "deepnote_output_heights": [
     null,
     40.375
    ]
   },
   "source": "data = train[100]\nprint('Query (Question):', data.get('question'))\nprint('Answers:', data.get('answers'))\nprint('verses sorted by similarity score:')\nir(data_item=data)",
   "execution_count": 7,
   "outputs": [
    {
     "name": "stdout",
     "text": "Query (Question): ما هي انواع الحيوانات التي ذكرت في القرآن؟\nAnswers: [{'text': 'دابة الأرض', 'start_char': 43}]\nverses sorted by similarity score:\nquery bow: ['ما', 'هي', 'انواع', 'الحيوانات', 'التي', 'ذكرت', 'في', 'القرآن']\n/root/venv/lib/python3.7/site-packages/gensim/models/lsimodel.py:101: RuntimeWarning: invalid value encountered in true_divide\n  rel_spectrum = np.abs(1.0 - np.cumsum(s / np.sum(s)))\n",
     "output_type": "stream"
    },
    {
     "output_type": "execute_result",
     "execution_count": 7,
     "data": {
      "text/plain": "[(0.0,\n  'فلما قضينا عليه الموت ما دلهم على موته إلا دابة الأرض تأكل منسأته فلما خر تبينت الجن أن لو كانوا يعلمون الغيب ما لبثوا في العذاب المهين')]"
     },
     "metadata": {}
    }
   ]
  },
  {
   "cell_type": "markdown",
   "source": "## Example 5",
   "metadata": {
    "cell_id": "00015-11d54ebd-2839-4d43-87d5-a42409f7f644",
    "deepnote_cell_type": "markdown",
    "deepnote_cell_height": 70
   }
  },
  {
   "cell_type": "code",
   "metadata": {
    "cell_id": "00016-1f2230e5-5ebd-48bb-a043-be786135b1c5",
    "deepnote_to_be_reexecuted": false,
    "source_hash": "d0bd55c8",
    "execution_start": 1648212755316,
    "execution_millis": 19,
    "deepnote_cell_type": "code",
    "deepnote_cell_height": 412.0625,
    "deepnote_output_heights": [
     null,
     136.3125
    ]
   },
   "source": "data = train[150]\nprint('Query (Question):', data.get('question'))\nprint('Answers:', data.get('answers'))\nprint('verses sorted by similarity score:')\nir(data_item=data)",
   "execution_count": 8,
   "outputs": [
    {
     "name": "stdout",
     "text": "Query (Question): من هم القوم الذين حولهم الله إلى قردة؟\nAnswers: [{'text': 'الذين اعتدوا منكم في السبت', 'start_char': 165}]\nverses sorted by similarity score:\nquery bow: ['من', 'هم', 'القوم', 'الذين', 'حولهم', 'الله', 'إلى', 'قردة']\n",
     "output_type": "stream"
    },
    {
     "output_type": "execute_result",
     "execution_count": 8,
     "data": {
      "text/plain": "[(0.8017837,\n  'ثم توليتم من بعد ذلك فلولا فضل الله عليكم ورحمته لكنتم من الخاسرين'),\n (0.59761435,\n  'ولقد علمتم الذين اعتدوا منكم في السبت فقلنا لهم كونوا قردة خاسئين'),\n (2.9802322e-08, 'فجعلناها نكالا لما بين يديها وما خلفها وموعظة للمتقين'),\n (0.0,\n  'وإذ أخذنا ميثاقكم ورفعنا فوقكم الطور خذوا ما آتيناكم بقوة واذكروا ما فيه لعلكم تتقون')]"
     },
     "metadata": {}
    }
   ]
  },
  {
   "cell_type": "code",
   "metadata": {
    "cell_id": "00017-d23c6b62-1d1b-41d6-8c15-310e3a4dad82",
    "deepnote_to_be_reexecuted": false,
    "source_hash": "e8db8a15",
    "execution_start": 1648212755382,
    "execution_millis": 1,
    "deepnote_cell_type": "code",
    "deepnote_cell_height": 412.0625,
    "deepnote_output_heights": [
     null,
     136.3125
    ]
   },
   "source": "data = train[150]\nprint('Query (Question):', data.get('question'))\nprint('Answers:', data.get('answers'))\nprint('verses sorted by similarity score:')\nir(data_item=data, index_method='tfidf')",
   "execution_count": 9,
   "outputs": [
    {
     "name": "stdout",
     "text": "Query (Question): من هم القوم الذين حولهم الله إلى قردة؟\nAnswers: [{'text': 'الذين اعتدوا منكم في السبت', 'start_char': 165}]\nverses sorted by similarity score:\nquery bow: ['من', 'هم', 'القوم', 'الذين', 'حولهم', 'الله', 'إلى', 'قردة']\n",
     "output_type": "stream"
    },
    {
     "output_type": "execute_result",
     "execution_count": 9,
     "data": {
      "text/plain": "[(0.38729835,\n  'ثم توليتم من بعد ذلك فلولا فضل الله عليكم ورحمته لكنتم من الخاسرين'),\n (0.28867513,\n  'ولقد علمتم الذين اعتدوا منكم في السبت فقلنا لهم كونوا قردة خاسئين'),\n (0.0,\n  'وإذ أخذنا ميثاقكم ورفعنا فوقكم الطور خذوا ما آتيناكم بقوة واذكروا ما فيه لعلكم تتقون'),\n (0.0, 'فجعلناها نكالا لما بين يديها وما خلفها وموعظة للمتقين')]"
     },
     "metadata": {}
    }
   ]
  },
  {
   "cell_type": "markdown",
   "source": "<a style='text-decoration:none;line-height:16px;display:flex;color:#5B5B62;padding:10px;justify-content:end;' href='https://deepnote.com?utm_source=created-in-deepnote-cell&projectId=3830c0ac-c463-4f89-bdcd-934e243edd2c' target=\"_blank\">\n<img alt='Created in deepnote.com' style='display:inline;max-height:16px;margin:0px;margin-right:7.5px;' src='data:image/svg+xml;base64,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' > </img>\nCreated in <span style='font-weight:600;margin-left:4px;'>Deepnote</span></a>",
   "metadata": {
    "tags": [],
    "created_in_deepnote_cell": true,
    "deepnote_cell_type": "markdown"
   }
  }
 ],
 "nbformat": 4,
 "nbformat_minor": 2,
 "metadata": {
  "interpreter": {
   "hash": "c32fdc886c0254dd70f0ab58fbe1d8a7cb056d79d780ce61ef4d86fd91be5655"
  },
  "kernelspec": {
   "display_name": "Python 3.9.7 ('quranqa')",
   "language": "python",
   "name": "python3"
  },
  "language_info": {
   "codemirror_mode": {
    "name": "ipython",
    "version": 3
   },
   "file_extension": ".py",
   "mimetype": "text/x-python",
   "name": "python",
   "nbconvert_exporter": "python",
   "pygments_lexer": "ipython3",
   "version": "3.9.7"
  },
  "orig_nbformat": 4,
  "deepnote_notebook_id": "1cf252d6-4112-44d7-999b-5a3a4d9315d7",
  "deepnote": {},
  "deepnote_execution_queue": []
 }
}