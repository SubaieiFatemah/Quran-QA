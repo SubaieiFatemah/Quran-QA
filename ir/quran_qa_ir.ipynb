{
 "cells": [
  {
   "cell_type": "markdown",
   "metadata": {
    "cell_id": "452a4d5f-4c4e-4427-b671-b9b503dab216",
    "deepnote_cell_height": 82,
    "deepnote_cell_type": "markdown"
   },
   "source": [
    "# imports "
   ]
  },
  {
   "cell_type": "code",
   "execution_count": 1,
   "metadata": {
    "cell_id": "00001-479611b2-9d50-40ea-8ba2-6ce427c00023",
    "deepnote_cell_height": 135,
    "deepnote_cell_type": "code",
    "deepnote_to_be_reexecuted": false,
    "execution_millis": 1571,
    "execution_start": 1648212753422,
    "source_hash": "9ed5e12c"
   },
   "outputs": [],
   "source": [
    "import read_write_qrcd as q_reader\n",
    "from gensim import corpora, models, similarities\n",
    "from collections import defaultdict\n",
    "import pprint"
   ]
  },
  {
   "cell_type": "markdown",
   "metadata": {
    "cell_id": "00002-6b45b3e1-ceee-4128-9276-f21c2289059f",
    "deepnote_cell_height": 82,
    "deepnote_cell_type": "markdown"
   },
   "source": [
    "# load data "
   ]
  },
  {
   "cell_type": "code",
   "execution_count": 2,
   "metadata": {
    "cell_id": "00003-7c19bff8-0659-48c6-b140-926087beaf4f",
    "deepnote_cell_height": 130.1875,
    "deepnote_cell_type": "code",
    "deepnote_to_be_reexecuted": false,
    "execution_millis": 21,
    "execution_start": 1648212755000,
    "source_hash": "60706af4"
   },
   "outputs": [
    {
     "name": "stdout",
     "output_type": "stream",
     "text": [
      "Loaded 710 records from ../quranqa/datasets/qrcd_v1.1_train.jsonl\n"
     ]
    }
   ],
   "source": [
    "train_data_file = '../quranqa/datasets/qrcd_v1.1_train.jsonl'\n",
    "train = q_reader.load_jsonl(train_data_file)"
   ]
  },
  {
   "cell_type": "markdown",
   "metadata": {
    "cell_id": "00004-37f1cdfc-573c-42fa-b172-f386eacdc6d6",
    "deepnote_cell_height": 82,
    "deepnote_cell_type": "markdown"
   },
   "source": [
    "# IR function"
   ]
  },
  {
   "cell_type": "code",
   "execution_count": 3,
   "metadata": {
    "cell_id": "00005-18afb38c-3500-46e8-89cc-b93fd9ea1b7b",
    "deepnote_cell_height": 1035,
    "deepnote_cell_type": "code",
    "deepnote_to_be_reexecuted": false,
    "execution_millis": 11,
    "execution_start": 1648212755023,
    "source_hash": "cb155294"
   },
   "outputs": [],
   "source": [
    "def ir(data_item={}, query_key='question', docs_key='passage', res_key='answers', index_method='lsi', dims=4) -> list:\n",
    "    # get data items \n",
    "    docs = [ver.strip() for ver in data_item.get(docs_key).split('.') if ver.strip()]\n",
    "    query = data_item.get(query_key)\n",
    "    res = data_item.get(res_key)\n",
    "\n",
    "    stoplist = ''.split()\n",
    "    texts = [\n",
    "        [word for word in doc.split() if word not in stoplist]\n",
    "        for doc in docs\n",
    "    ]\n",
    "\n",
    "    # build dictionary and corpus \n",
    "    dictionary = corpora.Dictionary(texts)\n",
    "    corpus = [dictionary.doc2bow(text) for text in texts]\n",
    "\n",
    "    # build tfidf & lsi models \n",
    "    tfidf = models.TfidfModel(corpus) \n",
    "    corpus_tfidf = tfidf[corpus]\n",
    "    lsi_model = models.LsiModel(corpus_tfidf, id2word=dictionary, num_topics=dims)\n",
    "    corpus_lsi = lsi_model[corpus_tfidf]\n",
    "\n",
    "    # generate query BOW vector and LSI vector from the question \n",
    "    query_bow = query.replace('؟', '').replace('\"', '').split()\n",
    "    print('query bow:', query_bow)\n",
    "    vec_bow = dictionary.doc2bow(query_bow)\n",
    "    vec_lsi = lsi_model[vec_bow]\n",
    "\n",
    "    result = []\n",
    "    try:\n",
    "        # generate tfidf and lsi indices \n",
    "        lsi_index = similarities.MatrixSimilarity(corpus_lsi)\n",
    "        tfidf_index = similarities.MatrixSimilarity(corpus_tfidf)\n",
    "        \n",
    "        \n",
    "        # get similarities between queries and docs \n",
    "        tfidf_sims = tfidf_index[vec_bow]\n",
    "        lsi_sims = lsi_index[vec_lsi]\n",
    "\n",
    "        # sort documents according to similarties \n",
    "        \n",
    "        if index_method == 'tfidf':\n",
    "            sims = tfidf_sims\n",
    "        else:\n",
    "            sims = lsi_sims\n",
    "        \n",
    "        \n",
    "        sims = sorted(enumerate(sims), key=lambda item: -item[1])\n",
    "        for doc_position, doc_score in sims:\n",
    "            result.append( (doc_score, docs[doc_position]) )\n",
    "    except:\n",
    "        for doc in docs:\n",
    "            result.append( (0.0, doc) )\n",
    "    return result"
   ]
  },
  {
   "cell_type": "markdown",
   "metadata": {
    "cell_id": "00006-f35e831f-fb1e-413e-9eab-94ffe625f2a3",
    "deepnote_cell_height": 82,
    "deepnote_cell_type": "markdown"
   },
   "source": [
    "# some examples "
   ]
  },
  {
   "cell_type": "markdown",
   "metadata": {
    "cell_id": "00007-410b65da-eb5f-4b35-ab41-e2ef48278a30",
    "deepnote_cell_height": 70,
    "deepnote_cell_type": "markdown"
   },
   "source": [
    "## Example 1"
   ]
  },
  {
   "cell_type": "code",
   "execution_count": 4,
   "metadata": {
    "cell_id": "00008-67647d11-45da-4cd8-af92-c57b32d5b6f8",
    "deepnote_cell_height": 508,
    "deepnote_cell_type": "code",
    "deepnote_output_heights": [
     null,
     232.25
    ],
    "deepnote_to_be_reexecuted": false,
    "execution_millis": 47,
    "execution_start": 1648212755081,
    "source_hash": "61629770"
   },
   "outputs": [
    {
     "name": "stdout",
     "output_type": "stream",
     "text": [
      "Query (Question): لماذا سيُحاسب ويُعذب الضال يوم القيامة ان كان \"\"من يضلل الله فما له من هاد\"\" كما ورد من قوله تعالى في آية 23 و آية 36 من سورة الزمر؟\n",
      "Answers: [{'text': 'أولئك الذين اشتروا الضلالة بالهدى', 'start_char': 504}]\n",
      "verses sorted by similarity score:\n",
      "query bow: ['لماذا', 'سيُحاسب', 'ويُعذب', 'الضال', 'يوم', 'القيامة', 'ان', 'كان', 'من', 'يضلل', 'الله', 'فما', 'له', 'من', 'هاد', 'كما', 'ورد', 'من', 'قوله', 'تعالى', 'في', 'آية', '23', 'و', 'آية', '36', 'من', 'سورة', 'الزمر']\n"
     ]
    },
    {
     "data": {
      "text/plain": [
       "[(0.93099207, 'يخادعون الله والذين آمنوا وما يخدعون إلا أنفسهم وما يشعرون'),\n",
       " (0.81462085, 'ومن الناس من يقول آمنا بالله وباليوم الآخر وما هم بمؤمنين'),\n",
       " (0.7821177,\n",
       "  'أولئك الذين اشتروا الضلالة بالهدى فما ربحت تجارتهم وما كانوا مهتدين'),\n",
       " (0.4166727, 'ألا إنهم هم المفسدون ولكن لا يشعرون'),\n",
       " (0.3769802, 'في قلوبهم مرض فزادهم الله مرضا ولهم عذاب أليم بما كانوا يكذبون'),\n",
       " (0.33878773,\n",
       "  'وإذا قيل لهم آمنوا كما آمن الناس قالوا أنؤمن كما آمن السفهاء ألا إنهم هم السفهاء ولكن لا يعلمون'),\n",
       " (0.3092097,\n",
       "  'وإذا لقوا الذين آمنوا قالوا آمنا وإذا خلوا إلى شياطينهم قالوا إنا معكم إنما نحن مستهزئون'),\n",
       " (0.17794453, 'الله يستهزئ بهم ويمدهم في طغيانهم يعمهون'),\n",
       " (0.17013404, 'وإذا قيل لهم لا تفسدوا في الأرض قالوا إنما نحن مصلحون')]"
      ]
     },
     "execution_count": 4,
     "metadata": {},
     "output_type": "execute_result"
    }
   ],
   "source": [
    "data = train[0]\n",
    "print('Query (Question):', data.get('question'))\n",
    "print('Answers:', data.get('answers'))\n",
    "print('verses sorted by similarity score:')\n",
    "ir(data_item=data)"
   ]
  },
  {
   "cell_type": "markdown",
   "metadata": {
    "cell_id": "00009-0b13e585-8a0d-47a7-a5e8-d1914b61be74",
    "deepnote_cell_height": 70,
    "deepnote_cell_type": "markdown"
   },
   "source": [
    "## Example 2"
   ]
  },
  {
   "cell_type": "code",
   "execution_count": 5,
   "metadata": {
    "cell_id": "00010-30207d39-9bfd-4061-8659-75e76d55498d",
    "deepnote_cell_height": 470,
    "deepnote_cell_type": "code",
    "deepnote_output_heights": [
     null,
     193.875
    ],
    "deepnote_to_be_reexecuted": false,
    "execution_millis": 45,
    "execution_start": 1648212755126,
    "source_hash": "ac9e74fc"
   },
   "outputs": [
    {
     "name": "stdout",
     "output_type": "stream",
     "text": [
      "Query (Question): إن كان الله قدّر علي أفعالي فلماذا يحاسبني؟\n",
      "Answers: [{'text': 'كل إنسان ألزمناه طائره في عنقه', 'start_char': 141}, {'text': 'من اهتدى فإنما يهتدي لنفسه ومن ضل فإنما يضل عليها', 'start_char': 252}]\n",
      "verses sorted by similarity score:\n",
      "query bow: ['إن', 'كان', 'الله', 'قدّر', 'علي', 'أفعالي', 'فلماذا', 'يحاسبني']\n"
     ]
    },
    {
     "data": {
      "text/plain": [
       "[(0.0,\n",
       "  'وجعلنا الليل والنهار آيتين فمحونا آية الليل وجعلنا آية النهار مبصرة لتبتغوا فضلا من ربكم ولتعلموا عدد السنين والحساب وكل شيء فصلناه تفصيلا'),\n",
       " (0.0,\n",
       "  'وكل إنسان ألزمناه طائره في عنقه ونخرج له يوم القيامة كتابا يلقاه منشورا'),\n",
       " (0.0, 'اقرأ كتابك كفى بنفسك اليوم عليك حسيبا'),\n",
       " (0.0,\n",
       "  'من اهتدى فإنما يهتدي لنفسه ومن ضل فإنما يضل عليها ولا تزر وازرة وزر أخرى وما كنا معذبين حتى نبعث رسولا'),\n",
       " (0.0,\n",
       "  'وإذا أردنا أن نهلك قرية أمرنا مترفيها ففسقوا فيها فحق عليها القول فدمرناها تدميرا'),\n",
       " (0.0, 'وكم أهلكنا من القرون من بعد نوح وكفى بربك بذنوب عباده خبيرا بصيرا')]"
      ]
     },
     "execution_count": 5,
     "metadata": {},
     "output_type": "execute_result"
    }
   ],
   "source": [
    "data = train[19]\n",
    "print('Query (Question):', data.get('question'))\n",
    "print('Answers:', data.get('answers'))\n",
    "print('verses sorted by similarity score:')\n",
    "ir(data_item=data)"
   ]
  },
  {
   "cell_type": "markdown",
   "metadata": {
    "cell_id": "00011-840ff757-7b33-44e4-8f32-7c3ba14791e0",
    "deepnote_cell_height": 70,
    "deepnote_cell_type": "markdown"
   },
   "source": [
    "## Example 3"
   ]
  },
  {
   "cell_type": "code",
   "execution_count": 6,
   "metadata": {
    "cell_id": "00012-56fee035-2186-4c4f-bbdd-46d7dd437384",
    "deepnote_cell_height": 887,
    "deepnote_cell_type": "code",
    "deepnote_output_heights": [
     null,
     611
    ],
    "deepnote_to_be_reexecuted": false,
    "execution_millis": 89,
    "execution_start": 1648212755170,
    "source_hash": "62643e3b"
   },
   "outputs": [
    {
     "name": "stdout",
     "output_type": "stream",
     "text": [
      "Query (Question): ما هو وصف الحور العين؟\n",
      "Answers: [{'text': 'خيرات حسان', 'start_char': 600}, {'text': 'حور مقصورات في الخيام', 'start_char': 636}, {'text': 'لم يطمثهن إنس قبلهم ولا جان', 'start_char': 683}]\n",
      "verses sorted by similarity score:\n",
      "query bow: ['ما', 'هو', 'وصف', 'الحور', 'العين']\n"
     ]
    },
    {
     "data": {
      "text/plain": [
       "[(0.0, 'ولمن خاف مقام ربه جنتان'),\n",
       " (0.0, 'فبأي آلاء ربكما تكذبان'),\n",
       " (0.0, 'ذواتا أفنان'),\n",
       " (0.0, 'فبأي آلاء ربكما تكذبان'),\n",
       " (0.0, 'فيهما عينان تجريان'),\n",
       " (0.0, 'فبأي آلاء ربكما تكذبان'),\n",
       " (0.0, 'فيهما من كل فاكهة زوجان'),\n",
       " (0.0, 'فبأي آلاء ربكما تكذبان'),\n",
       " (0.0, 'متكئين على فرش بطائنها من إستبرق وجنى الجنتين دان'),\n",
       " (0.0, 'فبأي آلاء ربكما تكذبان'),\n",
       " (0.0, 'فيهن قاصرات الطرف لم يطمثهن إنس قبلهم ولا جان'),\n",
       " (0.0, 'فبأي آلاء ربكما تكذبان'),\n",
       " (0.0, 'كأنهن الياقوت والمرجان'),\n",
       " (0.0, 'فبأي آلاء ربكما تكذبان'),\n",
       " (0.0, 'هل جزاء الإحسان إلا الإحسان'),\n",
       " (0.0, 'فبأي آلاء ربكما تكذبان'),\n",
       " (0.0, 'ومن دونهما جنتان'),\n",
       " (0.0, 'فبأي آلاء ربكما تكذبان'),\n",
       " (0.0, 'مدهامتان'),\n",
       " (0.0, 'فبأي آلاء ربكما تكذبان'),\n",
       " (0.0, 'فيهما عينان نضاختان'),\n",
       " (0.0, 'فبأي آلاء ربكما تكذبان'),\n",
       " (0.0, 'فيهما فاكهة ونخل ورمان'),\n",
       " (0.0, 'فبأي آلاء ربكما تكذبان'),\n",
       " (0.0, 'فيهن خيرات حسان'),\n",
       " (0.0, 'فبأي آلاء ربكما تكذبان'),\n",
       " (0.0, 'حور مقصورات في الخيام'),\n",
       " (0.0, 'فبأي آلاء ربكما تكذبان'),\n",
       " (0.0, 'لم يطمثهن إنس قبلهم ولا جان'),\n",
       " (0.0, 'فبأي آلاء ربكما تكذبان'),\n",
       " (0.0, 'متكئين على رفرف خضر وعبقري حسان'),\n",
       " (0.0, 'فبأي آلاء ربكما تكذبان'),\n",
       " (0.0, 'تبارك اسم ربك ذي الجلال والإكرام')]"
      ]
     },
     "execution_count": 6,
     "metadata": {},
     "output_type": "execute_result"
    }
   ],
   "source": [
    "data = train[40]\n",
    "print('Query (Question):', data.get('question'))\n",
    "print('Answers:', data.get('answers'))\n",
    "print('verses sorted by similarity score:')\n",
    "ir(data_item=data)"
   ]
  },
  {
   "cell_type": "markdown",
   "metadata": {
    "cell_id": "00013-a0f41472-2cdf-46e8-b12b-4a12ca0de246",
    "deepnote_cell_height": 70,
    "deepnote_cell_type": "markdown"
   },
   "source": [
    "## Example 4"
   ]
  },
  {
   "cell_type": "code",
   "execution_count": 7,
   "metadata": {
    "cell_id": "00014-cea7a0c9-8790-4bb7-a44b-21d8e876b8e8",
    "deepnote_cell_height": 356.5,
    "deepnote_cell_type": "code",
    "deepnote_output_heights": [
     null,
     40.375
    ],
    "deepnote_to_be_reexecuted": false,
    "execution_millis": 41,
    "execution_start": 1648212755262,
    "source_hash": "fb72155a"
   },
   "outputs": [
    {
     "name": "stdout",
     "output_type": "stream",
     "text": [
      "Query (Question): ما هي انواع الحيوانات التي ذكرت في القرآن؟\n",
      "Answers: [{'text': 'دابة الأرض', 'start_char': 43}]\n",
      "verses sorted by similarity score:\n",
      "query bow: ['ما', 'هي', 'انواع', 'الحيوانات', 'التي', 'ذكرت', 'في', 'القرآن']\n"
     ]
    },
    {
     "name": "stderr",
     "output_type": "stream",
     "text": [
      "C:\\Users\\mo.saad\\Anaconda3\\envs\\quranqa\\lib\\site-packages\\gensim\\models\\lsimodel.py:101: RuntimeWarning: invalid value encountered in true_divide\n",
      "  rel_spectrum = np.abs(1.0 - np.cumsum(s / np.sum(s)))\n"
     ]
    },
    {
     "data": {
      "text/plain": [
       "[(0.0,\n",
       "  'فلما قضينا عليه الموت ما دلهم على موته إلا دابة الأرض تأكل منسأته فلما خر تبينت الجن أن لو كانوا يعلمون الغيب ما لبثوا في العذاب المهين')]"
      ]
     },
     "execution_count": 7,
     "metadata": {},
     "output_type": "execute_result"
    }
   ],
   "source": [
    "data = train[100]\n",
    "print('Query (Question):', data.get('question'))\n",
    "print('Answers:', data.get('answers'))\n",
    "print('verses sorted by similarity score:')\n",
    "ir(data_item=data)"
   ]
  },
  {
   "cell_type": "markdown",
   "metadata": {
    "cell_id": "00015-11d54ebd-2839-4d43-87d5-a42409f7f644",
    "deepnote_cell_height": 70,
    "deepnote_cell_type": "markdown"
   },
   "source": [
    "## Example 5"
   ]
  },
  {
   "cell_type": "code",
   "execution_count": 8,
   "metadata": {
    "cell_id": "00016-1f2230e5-5ebd-48bb-a043-be786135b1c5",
    "deepnote_cell_height": 412.0625,
    "deepnote_cell_type": "code",
    "deepnote_output_heights": [
     null,
     136.3125
    ],
    "deepnote_to_be_reexecuted": false,
    "execution_millis": 19,
    "execution_start": 1648212755316,
    "source_hash": "d0bd55c8"
   },
   "outputs": [
    {
     "name": "stdout",
     "output_type": "stream",
     "text": [
      "Query (Question): من هم القوم الذين حولهم الله إلى قردة؟\n",
      "Answers: [{'text': 'الذين اعتدوا منكم في السبت', 'start_char': 165}]\n",
      "verses sorted by similarity score:\n",
      "query bow: ['من', 'هم', 'القوم', 'الذين', 'حولهم', 'الله', 'إلى', 'قردة']\n"
     ]
    },
    {
     "data": {
      "text/plain": [
       "[(0.8017837,\n",
       "  'ثم توليتم من بعد ذلك فلولا فضل الله عليكم ورحمته لكنتم من الخاسرين'),\n",
       " (0.5976143,\n",
       "  'ولقد علمتم الذين اعتدوا منكم في السبت فقلنا لهم كونوا قردة خاسئين'),\n",
       " (0.0,\n",
       "  'وإذ أخذنا ميثاقكم ورفعنا فوقكم الطور خذوا ما آتيناكم بقوة واذكروا ما فيه لعلكم تتقون'),\n",
       " (0.0, 'فجعلناها نكالا لما بين يديها وما خلفها وموعظة للمتقين')]"
      ]
     },
     "execution_count": 8,
     "metadata": {},
     "output_type": "execute_result"
    }
   ],
   "source": [
    "data = train[150]\n",
    "print('Query (Question):', data.get('question'))\n",
    "print('Answers:', data.get('answers'))\n",
    "print('verses sorted by similarity score:')\n",
    "ir(data_item=data)"
   ]
  },
  {
   "cell_type": "code",
   "execution_count": 9,
   "metadata": {
    "cell_id": "00017-d23c6b62-1d1b-41d6-8c15-310e3a4dad82",
    "deepnote_cell_height": 412.0625,
    "deepnote_cell_type": "code",
    "deepnote_output_heights": [
     null,
     136.3125
    ],
    "deepnote_to_be_reexecuted": false,
    "execution_millis": 1,
    "execution_start": 1648212755382,
    "source_hash": "e8db8a15"
   },
   "outputs": [
    {
     "name": "stdout",
     "output_type": "stream",
     "text": [
      "Query (Question): من هم القوم الذين حولهم الله إلى قردة؟\n",
      "Answers: [{'text': 'الذين اعتدوا منكم في السبت', 'start_char': 165}]\n",
      "verses sorted by similarity score:\n",
      "query bow: ['من', 'هم', 'القوم', 'الذين', 'حولهم', 'الله', 'إلى', 'قردة']\n"
     ]
    },
    {
     "data": {
      "text/plain": [
       "[(0.38729835,\n",
       "  'ثم توليتم من بعد ذلك فلولا فضل الله عليكم ورحمته لكنتم من الخاسرين'),\n",
       " (0.28867513,\n",
       "  'ولقد علمتم الذين اعتدوا منكم في السبت فقلنا لهم كونوا قردة خاسئين'),\n",
       " (0.0,\n",
       "  'وإذ أخذنا ميثاقكم ورفعنا فوقكم الطور خذوا ما آتيناكم بقوة واذكروا ما فيه لعلكم تتقون'),\n",
       " (0.0, 'فجعلناها نكالا لما بين يديها وما خلفها وموعظة للمتقين')]"
      ]
     },
     "execution_count": 9,
     "metadata": {},
     "output_type": "execute_result"
    }
   ],
   "source": [
    "data = train[150]\n",
    "print('Query (Question):', data.get('question'))\n",
    "print('Answers:', data.get('answers'))\n",
    "print('verses sorted by similarity score:')\n",
    "ir(data_item=data, index_method='tfidf')"
   ]
  }
 ],
 "metadata": {
  "deepnote": {},
  "deepnote_execution_queue": [],
  "deepnote_notebook_id": "1cf252d6-4112-44d7-999b-5a3a4d9315d7",
  "interpreter": {
   "hash": "c32fdc886c0254dd70f0ab58fbe1d8a7cb056d79d780ce61ef4d86fd91be5655"
  },
  "kernelspec": {
   "display_name": "Python 3.9.7 ('quranqa')",
   "language": "python",
   "name": "python3"
  },
  "language_info": {
   "codemirror_mode": {
    "name": "ipython",
    "version": 3
   },
   "file_extension": ".py",
   "mimetype": "text/x-python",
   "name": "python",
   "nbconvert_exporter": "python",
   "pygments_lexer": "ipython3",
   "version": "3.9.7"
  },
  "orig_nbformat": 4
 },
 "nbformat": 4,
 "nbformat_minor": 2
}
