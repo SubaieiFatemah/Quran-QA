{
 "cells": [
  {
   "cell_type": "markdown",
   "metadata": {},
   "source": [
    "# imports "
   ]
  },
  {
   "cell_type": "code",
   "execution_count": 1,
   "metadata": {},
   "outputs": [],
   "source": [
    "import read_write_qrcd as q_reader\n",
    "from gensim import corpora, models, similarities\n",
    "from collections import defaultdict\n",
    "import pprint"
   ]
  },
  {
   "cell_type": "markdown",
   "metadata": {},
   "source": [
    "# load data "
   ]
  },
  {
   "cell_type": "code",
   "execution_count": 2,
   "metadata": {},
   "outputs": [
    {
     "name": "stdout",
     "output_type": "stream",
     "text": [
      "Loaded 710 records from ../quranqa/datasets/qrcd_v1.1_train.jsonl\n"
     ]
    }
   ],
   "source": [
    "train_data_file = '../quranqa/datasets/qrcd_v1.1_train.jsonl'\n",
    "train = q_reader.load_jsonl(train_data_file)"
   ]
  },
  {
   "cell_type": "markdown",
   "metadata": {},
   "source": [
    "# IR function"
   ]
  },
  {
   "cell_type": "code",
   "execution_count": 3,
   "metadata": {},
   "outputs": [],
   "source": [
    "def ir(data_item={}, query_key='question', docs_key='passage', res_key='answers', index_method='lsi', dims=4) -> list:\n",
    "    # get data items \n",
    "    docs = [ver.strip() for ver in data_item.get(docs_key).split('.') if ver.strip()]\n",
    "    query = data_item.get(query_key)\n",
    "    res = data_item.get(res_key)\n",
    "\n",
    "    stoplist = ''.split()\n",
    "    texts = [\n",
    "        [word for word in doc.split() if word not in stoplist]\n",
    "        for doc in docs\n",
    "    ]\n",
    "\n",
    "    # build dictionary and corpus \n",
    "    dictionary = corpora.Dictionary(texts)\n",
    "    corpus = [dictionary.doc2bow(text) for text in texts]\n",
    "\n",
    "    # build tfidf & lsi models \n",
    "    tfidf = models.TfidfModel(corpus) \n",
    "    corpus_tfidf = tfidf[corpus]\n",
    "    lsi_model = models.LsiModel(corpus_tfidf, id2word=dictionary, num_topics=dims)\n",
    "    corpus_lsi = lsi_model[corpus_tfidf]\n",
    "\n",
    "    # generate query BOW vector and LSI vector from the question \n",
    "    query_bow = query.replace('؟', '').replace('\"', '').split()\n",
    "    print('query bow:', query_bow)\n",
    "    vec_bow = dictionary.doc2bow(query_bow)\n",
    "    vec_lsi = lsi_model[vec_bow]\n",
    "\n",
    "    result = []\n",
    "    try:\n",
    "        # generate tfidf and lsi indices \n",
    "        lsi_index = similarities.MatrixSimilarity(corpus_lsi)\n",
    "        tfidf_index = similarities.MatrixSimilarity(corpus_tfidf)\n",
    "        \n",
    "        \n",
    "        # get similarities between queries and docs \n",
    "        tfidf_sims = tfidf_index[vec_bow]\n",
    "        lsi_sims = lsi_index[vec_lsi]\n",
    "\n",
    "        # sort documents according to similarties \n",
    "        \n",
    "        if index_method == 'tfidf':\n",
    "            sims = tfidf_sims\n",
    "        else:\n",
    "            sims = lsi_sims\n",
    "        \n",
    "        \n",
    "        sims = sorted(enumerate(sims), key=lambda item: -item[1])\n",
    "        for doc_position, doc_score in sims:\n",
    "            result.append( (doc_score, docs[doc_position]) )\n",
    "    except:\n",
    "        for doc in docs:\n",
    "            result.append( (0.0, doc) )\n",
    "    return result"
   ]
  },
  {
   "cell_type": "markdown",
   "metadata": {},
   "source": [
    "# some examples "
   ]
  },
  {
   "cell_type": "markdown",
   "metadata": {},
   "source": [
    "## Example 1"
   ]
  },
  {
   "cell_type": "code",
   "execution_count": 4,
   "metadata": {},
   "outputs": [
    {
     "name": "stdout",
     "output_type": "stream",
     "text": [
      "Query (Question): لماذا سيُحاسب ويُعذب الضال يوم القيامة ان كان \"\"من يضلل الله فما له من هاد\"\" كما ورد من قوله تعالى في آية 23 و آية 36 من سورة الزمر؟\n",
      "Answers: [{'text': 'أولئك الذين اشتروا الضلالة بالهدى', 'start_char': 504}]\n",
      "verses sorted by similarity score:\n",
      "query bow: ['لماذا', 'سيُحاسب', 'ويُعذب', 'الضال', 'يوم', 'القيامة', 'ان', 'كان', 'من', 'يضلل', 'الله', 'فما', 'له', 'من', 'هاد', 'كما', 'ورد', 'من', 'قوله', 'تعالى', 'في', 'آية', '23', 'و', 'آية', '36', 'من', 'سورة', 'الزمر']\n"
     ]
    },
    {
     "data": {
      "text/plain": [
       "[(0.93099207, 'يخادعون الله والذين آمنوا وما يخدعون إلا أنفسهم وما يشعرون'),\n",
       " (0.81462085, 'ومن الناس من يقول آمنا بالله وباليوم الآخر وما هم بمؤمنين'),\n",
       " (0.7821177,\n",
       "  'أولئك الذين اشتروا الضلالة بالهدى فما ربحت تجارتهم وما كانوا مهتدين'),\n",
       " (0.4166727, 'ألا إنهم هم المفسدون ولكن لا يشعرون'),\n",
       " (0.3769802, 'في قلوبهم مرض فزادهم الله مرضا ولهم عذاب أليم بما كانوا يكذبون'),\n",
       " (0.33878773,\n",
       "  'وإذا قيل لهم آمنوا كما آمن الناس قالوا أنؤمن كما آمن السفهاء ألا إنهم هم السفهاء ولكن لا يعلمون'),\n",
       " (0.3092097,\n",
       "  'وإذا لقوا الذين آمنوا قالوا آمنا وإذا خلوا إلى شياطينهم قالوا إنا معكم إنما نحن مستهزئون'),\n",
       " (0.17794453, 'الله يستهزئ بهم ويمدهم في طغيانهم يعمهون'),\n",
       " (0.17013404, 'وإذا قيل لهم لا تفسدوا في الأرض قالوا إنما نحن مصلحون')]"
      ]
     },
     "execution_count": 4,
     "metadata": {},
     "output_type": "execute_result"
    }
   ],
   "source": [
    "data = train[0]\n",
    "print('Query (Question):', data.get('question'))\n",
    "print('Answers:', data.get('answers'))\n",
    "print('verses sorted by similarity score:')\n",
    "ir(data_item=data)"
   ]
  },
  {
   "cell_type": "markdown",
   "metadata": {},
   "source": [
    "## Example 2"
   ]
  },
  {
   "cell_type": "code",
   "execution_count": 5,
   "metadata": {},
   "outputs": [
    {
     "name": "stdout",
     "output_type": "stream",
     "text": [
      "Query (Question): إن كان الله قدّر علي أفعالي فلماذا يحاسبني؟\n",
      "Answers: [{'text': 'كل إنسان ألزمناه طائره في عنقه', 'start_char': 141}, {'text': 'من اهتدى فإنما يهتدي لنفسه ومن ضل فإنما يضل عليها', 'start_char': 252}]\n",
      "verses sorted by similarity score:\n",
      "query bow: ['إن', 'كان', 'الله', 'قدّر', 'علي', 'أفعالي', 'فلماذا', 'يحاسبني']\n"
     ]
    },
    {
     "data": {
      "text/plain": [
       "[(0.0,\n",
       "  'وجعلنا الليل والنهار آيتين فمحونا آية الليل وجعلنا آية النهار مبصرة لتبتغوا فضلا من ربكم ولتعلموا عدد السنين والحساب وكل شيء فصلناه تفصيلا'),\n",
       " (0.0,\n",
       "  'وكل إنسان ألزمناه طائره في عنقه ونخرج له يوم القيامة كتابا يلقاه منشورا'),\n",
       " (0.0, 'اقرأ كتابك كفى بنفسك اليوم عليك حسيبا'),\n",
       " (0.0,\n",
       "  'من اهتدى فإنما يهتدي لنفسه ومن ضل فإنما يضل عليها ولا تزر وازرة وزر أخرى وما كنا معذبين حتى نبعث رسولا'),\n",
       " (0.0,\n",
       "  'وإذا أردنا أن نهلك قرية أمرنا مترفيها ففسقوا فيها فحق عليها القول فدمرناها تدميرا'),\n",
       " (0.0, 'وكم أهلكنا من القرون من بعد نوح وكفى بربك بذنوب عباده خبيرا بصيرا')]"
      ]
     },
     "execution_count": 5,
     "metadata": {},
     "output_type": "execute_result"
    }
   ],
   "source": [
    "data = train[19]\n",
    "print('Query (Question):', data.get('question'))\n",
    "print('Answers:', data.get('answers'))\n",
    "print('verses sorted by similarity score:')\n",
    "ir(data_item=data)"
   ]
  },
  {
   "cell_type": "markdown",
   "metadata": {},
   "source": [
    "## Example 3"
   ]
  },
  {
   "cell_type": "code",
   "execution_count": 6,
   "metadata": {},
   "outputs": [
    {
     "name": "stdout",
     "output_type": "stream",
     "text": [
      "Query (Question): ما هو وصف الحور العين؟\n",
      "Answers: [{'text': 'خيرات حسان', 'start_char': 600}, {'text': 'حور مقصورات في الخيام', 'start_char': 636}, {'text': 'لم يطمثهن إنس قبلهم ولا جان', 'start_char': 683}]\n",
      "verses sorted by similarity score:\n",
      "query bow: ['ما', 'هو', 'وصف', 'الحور', 'العين']\n"
     ]
    },
    {
     "data": {
      "text/plain": [
       "[(0.0, 'ولمن خاف مقام ربه جنتان'),\n",
       " (0.0, 'فبأي آلاء ربكما تكذبان'),\n",
       " (0.0, 'ذواتا أفنان'),\n",
       " (0.0, 'فبأي آلاء ربكما تكذبان'),\n",
       " (0.0, 'فيهما عينان تجريان'),\n",
       " (0.0, 'فبأي آلاء ربكما تكذبان'),\n",
       " (0.0, 'فيهما من كل فاكهة زوجان'),\n",
       " (0.0, 'فبأي آلاء ربكما تكذبان'),\n",
       " (0.0, 'متكئين على فرش بطائنها من إستبرق وجنى الجنتين دان'),\n",
       " (0.0, 'فبأي آلاء ربكما تكذبان'),\n",
       " (0.0, 'فيهن قاصرات الطرف لم يطمثهن إنس قبلهم ولا جان'),\n",
       " (0.0, 'فبأي آلاء ربكما تكذبان'),\n",
       " (0.0, 'كأنهن الياقوت والمرجان'),\n",
       " (0.0, 'فبأي آلاء ربكما تكذبان'),\n",
       " (0.0, 'هل جزاء الإحسان إلا الإحسان'),\n",
       " (0.0, 'فبأي آلاء ربكما تكذبان'),\n",
       " (0.0, 'ومن دونهما جنتان'),\n",
       " (0.0, 'فبأي آلاء ربكما تكذبان'),\n",
       " (0.0, 'مدهامتان'),\n",
       " (0.0, 'فبأي آلاء ربكما تكذبان'),\n",
       " (0.0, 'فيهما عينان نضاختان'),\n",
       " (0.0, 'فبأي آلاء ربكما تكذبان'),\n",
       " (0.0, 'فيهما فاكهة ونخل ورمان'),\n",
       " (0.0, 'فبأي آلاء ربكما تكذبان'),\n",
       " (0.0, 'فيهن خيرات حسان'),\n",
       " (0.0, 'فبأي آلاء ربكما تكذبان'),\n",
       " (0.0, 'حور مقصورات في الخيام'),\n",
       " (0.0, 'فبأي آلاء ربكما تكذبان'),\n",
       " (0.0, 'لم يطمثهن إنس قبلهم ولا جان'),\n",
       " (0.0, 'فبأي آلاء ربكما تكذبان'),\n",
       " (0.0, 'متكئين على رفرف خضر وعبقري حسان'),\n",
       " (0.0, 'فبأي آلاء ربكما تكذبان'),\n",
       " (0.0, 'تبارك اسم ربك ذي الجلال والإكرام')]"
      ]
     },
     "execution_count": 6,
     "metadata": {},
     "output_type": "execute_result"
    }
   ],
   "source": [
    "data = train[40]\n",
    "print('Query (Question):', data.get('question'))\n",
    "print('Answers:', data.get('answers'))\n",
    "print('verses sorted by similarity score:')\n",
    "ir(data_item=data)"
   ]
  },
  {
   "cell_type": "markdown",
   "metadata": {},
   "source": [
    "## Example 4"
   ]
  },
  {
   "cell_type": "code",
   "execution_count": 7,
   "metadata": {},
   "outputs": [
    {
     "name": "stdout",
     "output_type": "stream",
     "text": [
      "Query (Question): ما هي انواع الحيوانات التي ذكرت في القرآن؟\n",
      "Answers: [{'text': 'دابة الأرض', 'start_char': 43}]\n",
      "verses sorted by similarity score:\n",
      "query bow: ['ما', 'هي', 'انواع', 'الحيوانات', 'التي', 'ذكرت', 'في', 'القرآن']\n"
     ]
    },
    {
     "name": "stderr",
     "output_type": "stream",
     "text": [
      "C:\\Users\\mo.saad\\Anaconda3\\envs\\quranqa\\lib\\site-packages\\gensim\\models\\lsimodel.py:101: RuntimeWarning: invalid value encountered in true_divide\n",
      "  rel_spectrum = np.abs(1.0 - np.cumsum(s / np.sum(s)))\n"
     ]
    },
    {
     "data": {
      "text/plain": [
       "[(0.0,\n",
       "  'فلما قضينا عليه الموت ما دلهم على موته إلا دابة الأرض تأكل منسأته فلما خر تبينت الجن أن لو كانوا يعلمون الغيب ما لبثوا في العذاب المهين')]"
      ]
     },
     "execution_count": 7,
     "metadata": {},
     "output_type": "execute_result"
    }
   ],
   "source": [
    "data = train[100]\n",
    "print('Query (Question):', data.get('question'))\n",
    "print('Answers:', data.get('answers'))\n",
    "print('verses sorted by similarity score:')\n",
    "ir(data_item=data)"
   ]
  },
  {
   "cell_type": "markdown",
   "metadata": {},
   "source": [
    "## Example 5"
   ]
  },
  {
   "cell_type": "code",
   "execution_count": 8,
   "metadata": {},
   "outputs": [
    {
     "name": "stdout",
     "output_type": "stream",
     "text": [
      "Query (Question): من هم القوم الذين حولهم الله إلى قردة؟\n",
      "Answers: [{'text': 'الذين اعتدوا منكم في السبت', 'start_char': 165}]\n",
      "verses sorted by similarity score:\n",
      "query bow: ['من', 'هم', 'القوم', 'الذين', 'حولهم', 'الله', 'إلى', 'قردة']\n"
     ]
    },
    {
     "data": {
      "text/plain": [
       "[(0.8017837,\n",
       "  'ثم توليتم من بعد ذلك فلولا فضل الله عليكم ورحمته لكنتم من الخاسرين'),\n",
       " (0.59761435,\n",
       "  'ولقد علمتم الذين اعتدوا منكم في السبت فقلنا لهم كونوا قردة خاسئين'),\n",
       " (2.9802322e-08, 'فجعلناها نكالا لما بين يديها وما خلفها وموعظة للمتقين'),\n",
       " (0.0,\n",
       "  'وإذ أخذنا ميثاقكم ورفعنا فوقكم الطور خذوا ما آتيناكم بقوة واذكروا ما فيه لعلكم تتقون')]"
      ]
     },
     "execution_count": 8,
     "metadata": {},
     "output_type": "execute_result"
    }
   ],
   "source": [
    "data = train[150]\n",
    "print('Query (Question):', data.get('question'))\n",
    "print('Answers:', data.get('answers'))\n",
    "print('verses sorted by similarity score:')\n",
    "ir(data_item=data)"
   ]
  },
  {
   "cell_type": "code",
   "execution_count": 9,
   "metadata": {},
   "outputs": [
    {
     "name": "stdout",
     "output_type": "stream",
     "text": [
      "Query (Question): من هم القوم الذين حولهم الله إلى قردة؟\n",
      "Answers: [{'text': 'الذين اعتدوا منكم في السبت', 'start_char': 165}]\n",
      "verses sorted by similarity score:\n",
      "query bow: ['من', 'هم', 'القوم', 'الذين', 'حولهم', 'الله', 'إلى', 'قردة']\n"
     ]
    },
    {
     "data": {
      "text/plain": [
       "[(0.38729835,\n",
       "  'ثم توليتم من بعد ذلك فلولا فضل الله عليكم ورحمته لكنتم من الخاسرين'),\n",
       " (0.28867513,\n",
       "  'ولقد علمتم الذين اعتدوا منكم في السبت فقلنا لهم كونوا قردة خاسئين'),\n",
       " (0.0,\n",
       "  'وإذ أخذنا ميثاقكم ورفعنا فوقكم الطور خذوا ما آتيناكم بقوة واذكروا ما فيه لعلكم تتقون'),\n",
       " (0.0, 'فجعلناها نكالا لما بين يديها وما خلفها وموعظة للمتقين')]"
      ]
     },
     "execution_count": 9,
     "metadata": {},
     "output_type": "execute_result"
    }
   ],
   "source": [
    "data = train[150]\n",
    "print('Query (Question):', data.get('question'))\n",
    "print('Answers:', data.get('answers'))\n",
    "print('verses sorted by similarity score:')\n",
    "ir(data_item=data, index_method='tfidf')"
   ]
  }
 ],
 "metadata": {
  "interpreter": {
   "hash": "c32fdc886c0254dd70f0ab58fbe1d8a7cb056d79d780ce61ef4d86fd91be5655"
  },
  "kernelspec": {
   "display_name": "Python 3.9.7 ('quranqa')",
   "language": "python",
   "name": "python3"
  },
  "language_info": {
   "codemirror_mode": {
    "name": "ipython",
    "version": 3
   },
   "file_extension": ".py",
   "mimetype": "text/x-python",
   "name": "python",
   "nbconvert_exporter": "python",
   "pygments_lexer": "ipython3",
   "version": "3.9.7"
  },
  "orig_nbformat": 4
 },
 "nbformat": 4,
 "nbformat_minor": 2
}
